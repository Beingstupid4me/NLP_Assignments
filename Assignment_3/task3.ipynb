{
 "cells": [
  {
   "cell_type": "code",
   "execution_count": 2,
   "metadata": {
    "_cell_guid": "b1076dfc-b9ad-4769-8c92-a6c4dae69d19",
    "_uuid": "8f2839f25d086af736a60e9eeb907d3b93b6e0e5",
    "execution": {
     "iopub.execute_input": "2025-04-09T14:41:26.300603Z",
     "iopub.status.busy": "2025-04-09T14:41:26.300401Z",
     "iopub.status.idle": "2025-04-09T14:41:56.664675Z",
     "shell.execute_reply": "2025-04-09T14:41:56.663829Z",
     "shell.execute_reply.started": "2025-04-09T14:41:26.300583Z"
    },
    "trusted": true
   },
   "outputs": [
    {
     "name": "stdout",
     "output_type": "stream",
     "text": [
      "Requirement already satisfied: transformers==4.47.0 in c:\\users\\amart\\appdata\\local\\packages\\pythonsoftwarefoundation.python.3.10_qbz5n2kfra8p0\\localcache\\local-packages\\python310\\site-packages (4.47.0)\n",
      "Requirement already satisfied: filelock in c:\\users\\amart\\appdata\\local\\packages\\pythonsoftwarefoundation.python.3.10_qbz5n2kfra8p0\\localcache\\local-packages\\python310\\site-packages (from transformers==4.47.0) (3.17.0)\n",
      "Requirement already satisfied: huggingface-hub<1.0,>=0.24.0 in c:\\users\\amart\\appdata\\local\\packages\\pythonsoftwarefoundation.python.3.10_qbz5n2kfra8p0\\localcache\\local-packages\\python310\\site-packages (from transformers==4.47.0) (0.28.1)\n",
      "Requirement already satisfied: numpy>=1.17 in c:\\users\\amart\\appdata\\local\\packages\\pythonsoftwarefoundation.python.3.10_qbz5n2kfra8p0\\localcache\\local-packages\\python310\\site-packages (from transformers==4.47.0) (1.26.4)\n",
      "Requirement already satisfied: packaging>=20.0 in c:\\users\\amart\\appdata\\local\\packages\\pythonsoftwarefoundation.python.3.10_qbz5n2kfra8p0\\localcache\\local-packages\\python310\\site-packages (from transformers==4.47.0) (24.2)\n",
      "Requirement already satisfied: pyyaml>=5.1 in c:\\users\\amart\\appdata\\local\\packages\\pythonsoftwarefoundation.python.3.10_qbz5n2kfra8p0\\localcache\\local-packages\\python310\\site-packages (from transformers==4.47.0) (6.0.2)\n",
      "Requirement already satisfied: regex!=2019.12.17 in c:\\users\\amart\\appdata\\local\\packages\\pythonsoftwarefoundation.python.3.10_qbz5n2kfra8p0\\localcache\\local-packages\\python310\\site-packages (from transformers==4.47.0) (2024.11.6)\n",
      "Requirement already satisfied: requests in c:\\users\\amart\\appdata\\local\\packages\\pythonsoftwarefoundation.python.3.10_qbz5n2kfra8p0\\localcache\\local-packages\\python310\\site-packages (from transformers==4.47.0) (2.32.3)\n",
      "Requirement already satisfied: tokenizers<0.22,>=0.21 in c:\\users\\amart\\appdata\\local\\packages\\pythonsoftwarefoundation.python.3.10_qbz5n2kfra8p0\\localcache\\local-packages\\python310\\site-packages (from transformers==4.47.0) (0.21.0)\n",
      "Requirement already satisfied: safetensors>=0.4.1 in c:\\users\\amart\\appdata\\local\\packages\\pythonsoftwarefoundation.python.3.10_qbz5n2kfra8p0\\localcache\\local-packages\\python310\\site-packages (from transformers==4.47.0) (0.5.2)\n",
      "Requirement already satisfied: tqdm>=4.27 in c:\\users\\amart\\appdata\\local\\packages\\pythonsoftwarefoundation.python.3.10_qbz5n2kfra8p0\\localcache\\local-packages\\python310\\site-packages (from transformers==4.47.0) (4.67.1)\n",
      "Requirement already satisfied: fsspec>=2023.5.0 in c:\\users\\amart\\appdata\\local\\packages\\pythonsoftwarefoundation.python.3.10_qbz5n2kfra8p0\\localcache\\local-packages\\python310\\site-packages (from huggingface-hub<1.0,>=0.24.0->transformers==4.47.0) (2024.12.0)\n",
      "Requirement already satisfied: typing-extensions>=3.7.4.3 in c:\\users\\amart\\appdata\\local\\packages\\pythonsoftwarefoundation.python.3.10_qbz5n2kfra8p0\\localcache\\local-packages\\python310\\site-packages (from huggingface-hub<1.0,>=0.24.0->transformers==4.47.0) (4.12.2)\n",
      "Requirement already satisfied: colorama in c:\\users\\amart\\appdata\\local\\packages\\pythonsoftwarefoundation.python.3.10_qbz5n2kfra8p0\\localcache\\local-packages\\python310\\site-packages (from tqdm>=4.27->transformers==4.47.0) (0.4.6)\n",
      "Requirement already satisfied: charset-normalizer<4,>=2 in c:\\users\\amart\\appdata\\local\\packages\\pythonsoftwarefoundation.python.3.10_qbz5n2kfra8p0\\localcache\\local-packages\\python310\\site-packages (from requests->transformers==4.47.0) (3.4.1)\n",
      "Requirement already satisfied: idna<4,>=2.5 in c:\\users\\amart\\appdata\\local\\packages\\pythonsoftwarefoundation.python.3.10_qbz5n2kfra8p0\\localcache\\local-packages\\python310\\site-packages (from requests->transformers==4.47.0) (3.10)\n",
      "Requirement already satisfied: urllib3<3,>=1.21.1 in c:\\users\\amart\\appdata\\local\\packages\\pythonsoftwarefoundation.python.3.10_qbz5n2kfra8p0\\localcache\\local-packages\\python310\\site-packages (from requests->transformers==4.47.0) (2.3.0)\n",
      "Requirement already satisfied: certifi>=2017.4.17 in c:\\users\\amart\\appdata\\local\\packages\\pythonsoftwarefoundation.python.3.10_qbz5n2kfra8p0\\localcache\\local-packages\\python310\\site-packages (from requests->transformers==4.47.0) (2025.1.31)\n",
      "Note: you may need to restart the kernel to use updated packages.\n"
     ]
    },
    {
     "name": "stderr",
     "output_type": "stream",
     "text": [
      "\n",
      "[notice] A new release of pip is available: 25.0 -> 25.0.1\n",
      "[notice] To update, run: C:\\Users\\amart\\AppData\\Local\\Microsoft\\WindowsApps\\PythonSoftwareFoundation.Python.3.10_qbz5n2kfra8p0\\python.exe -m pip install --upgrade pip\n"
     ]
    },
    {
     "name": "stdout",
     "output_type": "stream",
     "text": [
      "Requirement already satisfied: evaluate in c:\\users\\amart\\appdata\\local\\packages\\pythonsoftwarefoundation.python.3.10_qbz5n2kfra8p0\\localcache\\local-packages\\python310\\site-packages (0.4.3)\n",
      "Requirement already satisfied: rouge-score in c:\\users\\amart\\appdata\\local\\packages\\pythonsoftwarefoundation.python.3.10_qbz5n2kfra8p0\\localcache\\local-packages\\python310\\site-packages (0.1.2)\n",
      "Requirement already satisfied: bert-score in c:\\users\\amart\\appdata\\local\\packages\\pythonsoftwarefoundation.python.3.10_qbz5n2kfra8p0\\localcache\\local-packages\\python310\\site-packages (0.3.13)\n",
      "Requirement already satisfied: sacrebleu in c:\\users\\amart\\appdata\\local\\packages\\pythonsoftwarefoundation.python.3.10_qbz5n2kfra8p0\\localcache\\local-packages\\python310\\site-packages (2.5.1)\n",
      "Requirement already satisfied: torch in c:\\users\\amart\\appdata\\local\\packages\\pythonsoftwarefoundation.python.3.10_qbz5n2kfra8p0\\localcache\\local-packages\\python310\\site-packages (2.6.0+cu118)\n",
      "Requirement already satisfied: sentencepiece in c:\\users\\amart\\appdata\\local\\packages\\pythonsoftwarefoundation.python.3.10_qbz5n2kfra8p0\\localcache\\local-packages\\python310\\site-packages (0.2.0)\n",
      "Requirement already satisfied: datasets>=2.0.0 in c:\\users\\amart\\appdata\\local\\packages\\pythonsoftwarefoundation.python.3.10_qbz5n2kfra8p0\\localcache\\local-packages\\python310\\site-packages (from evaluate) (3.3.2)\n",
      "Requirement already satisfied: numpy>=1.17 in c:\\users\\amart\\appdata\\local\\packages\\pythonsoftwarefoundation.python.3.10_qbz5n2kfra8p0\\localcache\\local-packages\\python310\\site-packages (from evaluate) (1.26.4)\n",
      "Requirement already satisfied: dill in c:\\users\\amart\\appdata\\local\\packages\\pythonsoftwarefoundation.python.3.10_qbz5n2kfra8p0\\localcache\\local-packages\\python310\\site-packages (from evaluate) (0.3.8)\n",
      "Requirement already satisfied: pandas in c:\\users\\amart\\appdata\\local\\packages\\pythonsoftwarefoundation.python.3.10_qbz5n2kfra8p0\\localcache\\local-packages\\python310\\site-packages (from evaluate) (2.2.3)\n",
      "Requirement already satisfied: requests>=2.19.0 in c:\\users\\amart\\appdata\\local\\packages\\pythonsoftwarefoundation.python.3.10_qbz5n2kfra8p0\\localcache\\local-packages\\python310\\site-packages (from evaluate) (2.32.3)\n",
      "Requirement already satisfied: tqdm>=4.62.1 in c:\\users\\amart\\appdata\\local\\packages\\pythonsoftwarefoundation.python.3.10_qbz5n2kfra8p0\\localcache\\local-packages\\python310\\site-packages (from evaluate) (4.67.1)\n",
      "Requirement already satisfied: xxhash in c:\\users\\amart\\appdata\\local\\packages\\pythonsoftwarefoundation.python.3.10_qbz5n2kfra8p0\\localcache\\local-packages\\python310\\site-packages (from evaluate) (3.5.0)\n",
      "Requirement already satisfied: multiprocess in c:\\users\\amart\\appdata\\local\\packages\\pythonsoftwarefoundation.python.3.10_qbz5n2kfra8p0\\localcache\\local-packages\\python310\\site-packages (from evaluate) (0.70.16)\n",
      "Requirement already satisfied: fsspec>=2021.05.0 in c:\\users\\amart\\appdata\\local\\packages\\pythonsoftwarefoundation.python.3.10_qbz5n2kfra8p0\\localcache\\local-packages\\python310\\site-packages (from fsspec[http]>=2021.05.0->evaluate) (2024.12.0)\n",
      "Requirement already satisfied: huggingface-hub>=0.7.0 in c:\\users\\amart\\appdata\\local\\packages\\pythonsoftwarefoundation.python.3.10_qbz5n2kfra8p0\\localcache\\local-packages\\python310\\site-packages (from evaluate) (0.28.1)\n",
      "Requirement already satisfied: packaging in c:\\users\\amart\\appdata\\local\\packages\\pythonsoftwarefoundation.python.3.10_qbz5n2kfra8p0\\localcache\\local-packages\\python310\\site-packages (from evaluate) (24.2)\n",
      "Requirement already satisfied: absl-py in c:\\users\\amart\\appdata\\local\\packages\\pythonsoftwarefoundation.python.3.10_qbz5n2kfra8p0\\localcache\\local-packages\\python310\\site-packages (from rouge-score) (2.2.2)\n",
      "Requirement already satisfied: nltk in c:\\users\\amart\\appdata\\local\\packages\\pythonsoftwarefoundation.python.3.10_qbz5n2kfra8p0\\localcache\\local-packages\\python310\\site-packages (from rouge-score) (3.9.1)\n",
      "Requirement already satisfied: six>=1.14.0 in c:\\users\\amart\\appdata\\local\\packages\\pythonsoftwarefoundation.python.3.10_qbz5n2kfra8p0\\localcache\\local-packages\\python310\\site-packages (from rouge-score) (1.17.0)\n",
      "Requirement already satisfied: transformers>=3.0.0 in c:\\users\\amart\\appdata\\local\\packages\\pythonsoftwarefoundation.python.3.10_qbz5n2kfra8p0\\localcache\\local-packages\\python310\\site-packages (from bert-score) (4.47.0)\n",
      "Requirement already satisfied: matplotlib in c:\\users\\amart\\appdata\\local\\packages\\pythonsoftwarefoundation.python.3.10_qbz5n2kfra8p0\\localcache\\local-packages\\python310\\site-packages (from bert-score) (3.10.0)\n",
      "Requirement already satisfied: portalocker in c:\\users\\amart\\appdata\\local\\packages\\pythonsoftwarefoundation.python.3.10_qbz5n2kfra8p0\\localcache\\local-packages\\python310\\site-packages (from sacrebleu) (3.1.1)\n",
      "Requirement already satisfied: regex in c:\\users\\amart\\appdata\\local\\packages\\pythonsoftwarefoundation.python.3.10_qbz5n2kfra8p0\\localcache\\local-packages\\python310\\site-packages (from sacrebleu) (2024.11.6)\n",
      "Requirement already satisfied: tabulate>=0.8.9 in c:\\users\\amart\\appdata\\local\\packages\\pythonsoftwarefoundation.python.3.10_qbz5n2kfra8p0\\localcache\\local-packages\\python310\\site-packages (from sacrebleu) (0.9.0)\n",
      "Requirement already satisfied: colorama in c:\\users\\amart\\appdata\\local\\packages\\pythonsoftwarefoundation.python.3.10_qbz5n2kfra8p0\\localcache\\local-packages\\python310\\site-packages (from sacrebleu) (0.4.6)\n",
      "Requirement already satisfied: lxml in c:\\users\\amart\\appdata\\local\\packages\\pythonsoftwarefoundation.python.3.10_qbz5n2kfra8p0\\localcache\\local-packages\\python310\\site-packages (from sacrebleu) (5.3.0)\n",
      "Requirement already satisfied: filelock in c:\\users\\amart\\appdata\\local\\packages\\pythonsoftwarefoundation.python.3.10_qbz5n2kfra8p0\\localcache\\local-packages\\python310\\site-packages (from torch) (3.17.0)\n",
      "Requirement already satisfied: typing-extensions>=4.10.0 in c:\\users\\amart\\appdata\\local\\packages\\pythonsoftwarefoundation.python.3.10_qbz5n2kfra8p0\\localcache\\local-packages\\python310\\site-packages (from torch) (4.12.2)\n",
      "Requirement already satisfied: networkx in c:\\users\\amart\\appdata\\local\\packages\\pythonsoftwarefoundation.python.3.10_qbz5n2kfra8p0\\localcache\\local-packages\\python310\\site-packages (from torch) (3.4.2)\n",
      "Requirement already satisfied: jinja2 in c:\\users\\amart\\appdata\\local\\packages\\pythonsoftwarefoundation.python.3.10_qbz5n2kfra8p0\\localcache\\local-packages\\python310\\site-packages (from torch) (3.1.5)\n",
      "Requirement already satisfied: sympy==1.13.1 in c:\\users\\amart\\appdata\\local\\packages\\pythonsoftwarefoundation.python.3.10_qbz5n2kfra8p0\\localcache\\local-packages\\python310\\site-packages (from torch) (1.13.1)\n",
      "Requirement already satisfied: mpmath<1.4,>=1.1.0 in c:\\users\\amart\\appdata\\local\\packages\\pythonsoftwarefoundation.python.3.10_qbz5n2kfra8p0\\localcache\\local-packages\\python310\\site-packages (from sympy==1.13.1->torch) (1.3.0)\n",
      "Requirement already satisfied: pyarrow>=15.0.0 in c:\\users\\amart\\appdata\\local\\packages\\pythonsoftwarefoundation.python.3.10_qbz5n2kfra8p0\\localcache\\local-packages\\python310\\site-packages (from datasets>=2.0.0->evaluate) (19.0.1)\n",
      "Requirement already satisfied: aiohttp in c:\\users\\amart\\appdata\\local\\packages\\pythonsoftwarefoundation.python.3.10_qbz5n2kfra8p0\\localcache\\local-packages\\python310\\site-packages (from datasets>=2.0.0->evaluate) (3.11.13)\n",
      "Requirement already satisfied: pyyaml>=5.1 in c:\\users\\amart\\appdata\\local\\packages\\pythonsoftwarefoundation.python.3.10_qbz5n2kfra8p0\\localcache\\local-packages\\python310\\site-packages (from datasets>=2.0.0->evaluate) (6.0.2)\n",
      "Requirement already satisfied: python-dateutil>=2.8.2 in c:\\users\\amart\\appdata\\local\\packages\\pythonsoftwarefoundation.python.3.10_qbz5n2kfra8p0\\localcache\\local-packages\\python310\\site-packages (from pandas->evaluate) (2.9.0.post0)\n",
      "Requirement already satisfied: pytz>=2020.1 in c:\\users\\amart\\appdata\\local\\packages\\pythonsoftwarefoundation.python.3.10_qbz5n2kfra8p0\\localcache\\local-packages\\python310\\site-packages (from pandas->evaluate) (2025.1)\n",
      "Requirement already satisfied: tzdata>=2022.7 in c:\\users\\amart\\appdata\\local\\packages\\pythonsoftwarefoundation.python.3.10_qbz5n2kfra8p0\\localcache\\local-packages\\python310\\site-packages (from pandas->evaluate) (2025.1)\n",
      "Requirement already satisfied: charset-normalizer<4,>=2 in c:\\users\\amart\\appdata\\local\\packages\\pythonsoftwarefoundation.python.3.10_qbz5n2kfra8p0\\localcache\\local-packages\\python310\\site-packages (from requests>=2.19.0->evaluate) (3.4.1)\n",
      "Requirement already satisfied: idna<4,>=2.5 in c:\\users\\amart\\appdata\\local\\packages\\pythonsoftwarefoundation.python.3.10_qbz5n2kfra8p0\\localcache\\local-packages\\python310\\site-packages (from requests>=2.19.0->evaluate) (3.10)\n",
      "Requirement already satisfied: urllib3<3,>=1.21.1 in c:\\users\\amart\\appdata\\local\\packages\\pythonsoftwarefoundation.python.3.10_qbz5n2kfra8p0\\localcache\\local-packages\\python310\\site-packages (from requests>=2.19.0->evaluate) (2.3.0)\n",
      "Requirement already satisfied: certifi>=2017.4.17 in c:\\users\\amart\\appdata\\local\\packages\\pythonsoftwarefoundation.python.3.10_qbz5n2kfra8p0\\localcache\\local-packages\\python310\\site-packages (from requests>=2.19.0->evaluate) (2025.1.31)\n",
      "Requirement already satisfied: tokenizers<0.22,>=0.21 in c:\\users\\amart\\appdata\\local\\packages\\pythonsoftwarefoundation.python.3.10_qbz5n2kfra8p0\\localcache\\local-packages\\python310\\site-packages (from transformers>=3.0.0->bert-score) (0.21.0)\n",
      "Requirement already satisfied: safetensors>=0.4.1 in c:\\users\\amart\\appdata\\local\\packages\\pythonsoftwarefoundation.python.3.10_qbz5n2kfra8p0\\localcache\\local-packages\\python310\\site-packages (from transformers>=3.0.0->bert-score) (0.5.2)\n",
      "Requirement already satisfied: MarkupSafe>=2.0 in c:\\users\\amart\\appdata\\local\\packages\\pythonsoftwarefoundation.python.3.10_qbz5n2kfra8p0\\localcache\\local-packages\\python310\\site-packages (from jinja2->torch) (3.0.2)\n",
      "Requirement already satisfied: contourpy>=1.0.1 in c:\\users\\amart\\appdata\\local\\packages\\pythonsoftwarefoundation.python.3.10_qbz5n2kfra8p0\\localcache\\local-packages\\python310\\site-packages (from matplotlib->bert-score) (1.3.1)\n",
      "Requirement already satisfied: cycler>=0.10 in c:\\users\\amart\\appdata\\local\\packages\\pythonsoftwarefoundation.python.3.10_qbz5n2kfra8p0\\localcache\\local-packages\\python310\\site-packages (from matplotlib->bert-score) (0.12.1)\n",
      "Requirement already satisfied: fonttools>=4.22.0 in c:\\users\\amart\\appdata\\local\\packages\\pythonsoftwarefoundation.python.3.10_qbz5n2kfra8p0\\localcache\\local-packages\\python310\\site-packages (from matplotlib->bert-score) (4.55.8)\n",
      "Requirement already satisfied: kiwisolver>=1.3.1 in c:\\users\\amart\\appdata\\local\\packages\\pythonsoftwarefoundation.python.3.10_qbz5n2kfra8p0\\localcache\\local-packages\\python310\\site-packages (from matplotlib->bert-score) (1.4.8)\n",
      "Requirement already satisfied: pillow>=8 in c:\\users\\amart\\appdata\\local\\packages\\pythonsoftwarefoundation.python.3.10_qbz5n2kfra8p0\\localcache\\local-packages\\python310\\site-packages (from matplotlib->bert-score) (11.1.0)\n",
      "Requirement already satisfied: pyparsing>=2.3.1 in c:\\users\\amart\\appdata\\local\\packages\\pythonsoftwarefoundation.python.3.10_qbz5n2kfra8p0\\localcache\\local-packages\\python310\\site-packages (from matplotlib->bert-score) (3.2.1)\n",
      "Requirement already satisfied: click in c:\\users\\amart\\appdata\\local\\packages\\pythonsoftwarefoundation.python.3.10_qbz5n2kfra8p0\\localcache\\local-packages\\python310\\site-packages (from nltk->rouge-score) (8.1.8)\n",
      "Requirement already satisfied: joblib in c:\\users\\amart\\appdata\\local\\packages\\pythonsoftwarefoundation.python.3.10_qbz5n2kfra8p0\\localcache\\local-packages\\python310\\site-packages (from nltk->rouge-score) (1.4.2)\n",
      "Requirement already satisfied: pywin32>=226 in c:\\users\\amart\\appdata\\local\\packages\\pythonsoftwarefoundation.python.3.10_qbz5n2kfra8p0\\localcache\\local-packages\\python310\\site-packages (from portalocker->sacrebleu) (308)\n",
      "Requirement already satisfied: aiohappyeyeballs>=2.3.0 in c:\\users\\amart\\appdata\\local\\packages\\pythonsoftwarefoundation.python.3.10_qbz5n2kfra8p0\\localcache\\local-packages\\python310\\site-packages (from aiohttp->datasets>=2.0.0->evaluate) (2.6.1)\n",
      "Requirement already satisfied: aiosignal>=1.1.2 in c:\\users\\amart\\appdata\\local\\packages\\pythonsoftwarefoundation.python.3.10_qbz5n2kfra8p0\\localcache\\local-packages\\python310\\site-packages (from aiohttp->datasets>=2.0.0->evaluate) (1.3.2)\n",
      "Requirement already satisfied: async-timeout<6.0,>=4.0 in c:\\users\\amart\\appdata\\local\\packages\\pythonsoftwarefoundation.python.3.10_qbz5n2kfra8p0\\localcache\\local-packages\\python310\\site-packages (from aiohttp->datasets>=2.0.0->evaluate) (5.0.1)\n",
      "Requirement already satisfied: attrs>=17.3.0 in c:\\users\\amart\\appdata\\local\\packages\\pythonsoftwarefoundation.python.3.10_qbz5n2kfra8p0\\localcache\\local-packages\\python310\\site-packages (from aiohttp->datasets>=2.0.0->evaluate) (25.1.0)\n",
      "Requirement already satisfied: frozenlist>=1.1.1 in c:\\users\\amart\\appdata\\local\\packages\\pythonsoftwarefoundation.python.3.10_qbz5n2kfra8p0\\localcache\\local-packages\\python310\\site-packages (from aiohttp->datasets>=2.0.0->evaluate) (1.5.0)\n",
      "Requirement already satisfied: multidict<7.0,>=4.5 in c:\\users\\amart\\appdata\\local\\packages\\pythonsoftwarefoundation.python.3.10_qbz5n2kfra8p0\\localcache\\local-packages\\python310\\site-packages (from aiohttp->datasets>=2.0.0->evaluate) (6.1.0)\n",
      "Requirement already satisfied: propcache>=0.2.0 in c:\\users\\amart\\appdata\\local\\packages\\pythonsoftwarefoundation.python.3.10_qbz5n2kfra8p0\\localcache\\local-packages\\python310\\site-packages (from aiohttp->datasets>=2.0.0->evaluate) (0.3.0)\n",
      "Requirement already satisfied: yarl<2.0,>=1.17.0 in c:\\users\\amart\\appdata\\local\\packages\\pythonsoftwarefoundation.python.3.10_qbz5n2kfra8p0\\localcache\\local-packages\\python310\\site-packages (from aiohttp->datasets>=2.0.0->evaluate) (1.18.3)\n",
      "Note: you may need to restart the kernel to use updated packages.\n"
     ]
    },
    {
     "name": "stderr",
     "output_type": "stream",
     "text": [
      "\n",
      "[notice] A new release of pip is available: 25.0 -> 25.0.1\n",
      "[notice] To update, run: C:\\Users\\amart\\AppData\\Local\\Microsoft\\WindowsApps\\PythonSoftwareFoundation.Python.3.10_qbz5n2kfra8p0\\python.exe -m pip install --upgrade pip\n",
      "C:\\Users\\amart\\AppData\\Local\\Packages\\PythonSoftwareFoundation.Python.3.10_qbz5n2kfra8p0\\LocalCache\\local-packages\\Python310\\site-packages\\tqdm\\auto.py:21: TqdmWarning: IProgress not found. Please update jupyter and ipywidgets. See https://ipywidgets.readthedocs.io/en/stable/user_install.html\n",
      "  from .autonotebook import tqdm as notebook_tqdm\n"
     ]
    },
    {
     "name": "stdout",
     "output_type": "stream",
     "text": [
      "Using device: cuda\n"
     ]
    }
   ],
   "source": [
    "%pip install transformers==4.47.0\n",
    "%pip install evaluate rouge-score bert-score sacrebleu torch sentencepiece\n",
    "\n",
    "import torch\n",
    "import torch.nn as nn\n",
    "import torch.optim as optim\n",
    "from torch.utils.data import Dataset, DataLoader\n",
    "from transformers import (\n",
    "    BartModel,\n",
    "    BartForConditionalGeneration,\n",
    "    BartTokenizer,\n",
    "    ViTModel,\n",
    "    ViTImageProcessor\n",
    ")\n",
    "from transformers.modeling_outputs import BaseModelOutputWithPastAndCrossAttentions\n",
    "from PIL import Image\n",
    "import pickle\n",
    "import pandas as pd\n",
    "from tqdm import tqdm\n",
    "import evaluate\n",
    "import math\n",
    "import os\n",
    "import matplotlib.pyplot as plt\n",
    "from rouge_score import rouge_scorer\n",
    "from bert_score import score as bert_score_compute\n",
    "import numpy as np\n",
    "\n",
    "DEVICE = torch.device(\"cuda\" if torch.cuda.is_available() else \"cpu\")\n",
    "print(f\"Using device: {DEVICE}\")"
   ]
  },
  {
   "cell_type": "code",
   "execution_count": 3,
   "metadata": {
    "execution": {
     "iopub.execute_input": "2025-04-09T14:41:56.666575Z",
     "iopub.status.busy": "2025-04-09T14:41:56.665550Z",
     "iopub.status.idle": "2025-04-09T14:41:56.674105Z",
     "shell.execute_reply": "2025-04-09T14:41:56.673167Z",
     "shell.execute_reply.started": "2025-04-09T14:41:56.666552Z"
    },
    "trusted": true
   },
   "outputs": [],
   "source": [
    "class MuSEDataset(Dataset):\n",
    "    def __init__(self, tsv_path, objects_pkl_path, descriptions_pkl_path, image_dir):\n",
    "        super().__init__()\n",
    "        self.df = pd.read_csv(tsv_path, sep='\\t')\n",
    "        self.df['pid'] = self.df['pid'].astype(str)\n",
    "\n",
    "        with open(objects_pkl_path, 'rb') as f:\n",
    "            self.objects_data = pickle.load(f)\n",
    "\n",
    "        with open(descriptions_pkl_path, 'rb') as f:\n",
    "            self.descriptions_data = pickle.load(f)\n",
    "\n",
    "        self.image_dir = image_dir\n",
    "        self.pids = self.df['pid'].tolist()\n",
    "        \n",
    "    def __len__(self):\n",
    "        return len(self.pids)\n",
    "\n",
    "    def __getitem__(self, idx):\n",
    "        pid = self.pids[idx]\n",
    "\n",
    "        row = self.df[self.df.pid == pid].iloc[0]\n",
    "        caption = str(row['text']).replace('\\'', '')\n",
    "        target = str(row['target_of_sarcasm'])\n",
    "        explanation = str(row['explanation'])\n",
    "\n",
    "        description = self.descriptions_data.get(pid, \"\")\n",
    "        \n",
    "        objects_info = self.objects_data.get(pid, {'classes': []}) # Handle missing PIDs\n",
    "        object_list = objects_info.get('classes', [])\n",
    "\n",
    "        image_path = os.path.join(self.image_dir, f\"{pid}.jpg\")\n",
    "        try:\n",
    "            image = Image.open(image_path).convert(\"RGB\")\n",
    "        except FileNotFoundError:\n",
    "            print(f\"Warning: Image not found for PID {pid} at {image_path}. Returning None.\")\n",
    "            return None\n",
    "\n",
    "        return {\n",
    "            \"pid\": pid,\n",
    "            \"image\": image,\n",
    "            \"caption\": caption,\n",
    "            \"description\": description,\n",
    "            \"objects\": object_list,\n",
    "            \"target\": target,\n",
    "            \"explanation\": explanation\n",
    "        }"
   ]
  },
  {
   "cell_type": "code",
   "execution_count": 4,
   "metadata": {
    "execution": {
     "iopub.execute_input": "2025-04-09T14:41:56.675538Z",
     "iopub.status.busy": "2025-04-09T14:41:56.675159Z",
     "iopub.status.idle": "2025-04-09T14:41:56.770299Z",
     "shell.execute_reply": "2025-04-09T14:41:56.768968Z",
     "shell.execute_reply.started": "2025-04-09T14:41:56.675505Z"
    },
    "trusted": true
   },
   "outputs": [],
   "source": [
    "class MuseDataCollator:\n",
    "    def __init__(\n",
    "        self,\n",
    "        bart_tokenizer: BartTokenizer,\n",
    "        vit_processor: ViTImageProcessor,\n",
    "        vit_model: nn.Module,\n",
    "        text_max_len: int = 256,\n",
    "        explanation_max_len: int = 64\n",
    "    ):\n",
    "        self.bart_tokenizer = bart_tokenizer\n",
    "        self.vit_processor = vit_processor\n",
    "        self.vit_model = vit_model\n",
    "        self.text_max_len = text_max_len\n",
    "        self.explanation_max_len = explanation_max_len\n",
    "        self.bart_sep_token = self.bart_tokenizer.eos_token\n",
    "\n",
    "    def __call__(self, batch):\n",
    "        batch = [item for item in batch if item is not None]\n",
    "        if not batch:\n",
    "            return None\n",
    "\n",
    "        images = [item['image'] for item in batch]\n",
    "        captions = [item['caption'] for item in batch]\n",
    "        descriptions = [item['description'] for item in batch]\n",
    "        objects_list = [item['objects'] for item in batch]\n",
    "        targets = [item['target'] for item in batch]\n",
    "        explanations = [item['explanation'] for item in batch]\n",
    "        \n",
    "        image_inputs = self.vit_processor(images=images, return_tensors=\"pt\").to(DEVICE)\n",
    "        with torch.no_grad():\n",
    "             vit_outputs = self.vit_model(**image_inputs)\n",
    "             E_v_batch = vit_outputs.last_hidden_state\n",
    "\n",
    "        T_concat_batch_strings = []\n",
    "        for c, d, o_list, t in zip(captions, descriptions, objects_list, targets):\n",
    "            o_string = \" \".join(o_list)\n",
    "            t_knowledge = ' '.join((c, d, o_string))\n",
    "            t_concat = ' '.join((t_knowledge, self.bart_sep_token, t))\n",
    "            T_concat_batch_strings.append(t_concat)\n",
    "\n",
    "        tokenized_T_concat = self.bart_tokenizer(\n",
    "            T_concat_batch_strings,\n",
    "            return_tensors=\"pt\",\n",
    "            padding=\"max_length\",\n",
    "            truncation=True,\n",
    "            max_length=self.text_max_len\n",
    "        ).to(DEVICE)\n",
    "\n",
    "        tokenized_explanations = self.bart_tokenizer(\n",
    "            explanations,\n",
    "            return_tensors=\"pt\",\n",
    "            padding=\"max_length\",\n",
    "            truncation=True,\n",
    "            max_length=self.explanation_max_len\n",
    "        ).to(DEVICE)\n",
    "\n",
    "        labels = tokenized_explanations['input_ids']\n",
    "\n",
    "        return {\n",
    "            'E_v': E_v_batch,\n",
    "            'T_concat_ids': tokenized_T_concat['input_ids'],\n",
    "            'attention_mask': tokenized_T_concat['attention_mask'],\n",
    "            'target_explanation_ids': labels\n",
    "        }"
   ]
  },
  {
   "cell_type": "code",
   "execution_count": 5,
   "metadata": {
    "_cell_guid": "b1076dfc-b9ad-4769-8c92-a6c4dae69d19",
    "_uuid": "8f2839f25d086af736a60e9eeb907d3b93b6e0e5",
    "execution": {
     "iopub.execute_input": "2025-04-09T14:41:56.771880Z",
     "iopub.status.busy": "2025-04-09T14:41:56.771525Z",
     "iopub.status.idle": "2025-04-09T14:41:56.801996Z",
     "shell.execute_reply": "2025-04-09T14:41:56.801192Z",
     "shell.execute_reply.started": "2025-04-09T14:41:56.771853Z"
    },
    "trusted": true
   },
   "outputs": [],
   "source": [
    "class FeatureExtractorViT(nn.Module):\n",
    "    def __init__(self, vit_model_name=\"google/vit-base-patch16-224-in21k\"):\n",
    "        super().__init__()\n",
    "        self.vit_processor = ViTImageProcessor.from_pretrained(vit_model_name)\n",
    "        self.vit_model = ViTModel.from_pretrained(vit_model_name)\n",
    "        self.embedding_dim = self.vit_model.config.hidden_size\n",
    "\n",
    "    def forward(self, image):\n",
    "        try:\n",
    "            processed_inputs = self.vit_processor(images=image, return_tensors=\"pt\")\n",
    "            processed_inputs = processed_inputs.to(self.vit_model.device)\n",
    "        except Exception as e:\n",
    "            print(f\"Error processing image with ViTProcessor: {e}\")\n",
    "            return None\n",
    "\n",
    "        with torch.no_grad():\n",
    "            outputs = self.vit_model(**processed_inputs)\n",
    "\n",
    "        E_v = outputs.last_hidden_state\n",
    "        return E_v"
   ]
  },
  {
   "cell_type": "code",
   "execution_count": 6,
   "metadata": {
    "execution": {
     "iopub.execute_input": "2025-04-09T14:41:56.804123Z",
     "iopub.status.busy": "2025-04-09T14:41:56.803828Z",
     "iopub.status.idle": "2025-04-09T14:41:59.117076Z",
     "shell.execute_reply": "2025-04-09T14:41:59.116132Z",
     "shell.execute_reply.started": "2025-04-09T14:41:56.804102Z"
    },
    "trusted": true
   },
   "outputs": [],
   "source": [
    "class BART_SF(nn.Module):\n",
    "    def __init__(\n",
    "        self,\n",
    "        bart_model_name,\n",
    "        bart_tokenizer,\n",
    "        vit_feature_extractor=FeatureExtractorViT(),\n",
    "        vit_seq_len=197,\n",
    "        text_seq_len=256\n",
    "    ):\n",
    "        super().__init__()\n",
    "\n",
    "        self.bart_tokenizer = bart_tokenizer\n",
    "        self.bart_model = BartForConditionalGeneration.from_pretrained(bart_model_name)\n",
    "        self.text_embedding_dim = self.bart_model.config.d_model\n",
    "\n",
    "        self.vit_feature_extractor = vit_feature_extractor\n",
    "        self.image_embedding_dim = self.vit_feature_extractor.embedding_dim\n",
    "\n",
    "        if self.text_embedding_dim != self.image_embedding_dim:\n",
    "            self.image_feature_proj_dim = nn.Linear(self.image_embedding_dim, self.text_embedding_dim)\n",
    "            self.D_f = self.text_embedding_dim\n",
    "        else:\n",
    "            self.image_feature_proj_dim = nn.Identity()\n",
    "            self.D_f = self.text_embedding_dim\n",
    "            \n",
    "        self.vit_seq_len = vit_seq_len\n",
    "        self.text_seq_len = text_seq_len\n",
    "        if self.vit_seq_len != self.text_seq_len:\n",
    "            self.image_seq_proj_len = nn.Linear(self.vit_seq_len, self.text_seq_len)\n",
    "        else:\n",
    "            print(\"ViT and Text sequence lengths match. No sequence projection layer needed.\")\n",
    "            self.image_seq_proj_len = None\n",
    "\n",
    "        self.query_v = nn.Linear(self.D_f, self.D_f)\n",
    "        self.key_v = nn.Linear(self.D_f, self.D_f)\n",
    "        self.value_v = nn.Linear(self.D_f, self.D_f)\n",
    "        \n",
    "        self.query_t = nn.Linear(self.D_f, self.D_f)\n",
    "        self.key_t = nn.Linear(self.D_f, self.D_f)\n",
    "        self.value_t = nn.Linear(self.D_f, self.D_f)\n",
    "        \n",
    "        self.gate_v_layer = nn.Linear(self.D_f, self.D_f)\n",
    "        self.gate_t_layer = nn.Linear(self.D_f, self.D_f)\n",
    "        \n",
    "        self.alpha1 = nn.Parameter(torch.tensor(1.0))\n",
    "        self.alpha2 = nn.Parameter(torch.tensor(1.0))\n",
    "        self.beta1 = nn.Parameter(torch.tensor(1.0))\n",
    "        self.beta2 = nn.Parameter(torch.tensor(1.0))\n",
    "\n",
    "    def _attention(self, Q, K, V, d_f):\n",
    "        A = torch.matmul(Q, K.transpose(-1, -2))\n",
    "        A = torch.softmax(A / math.sqrt(d_f), dim=-1)\n",
    "        A = torch.matmul(A, V)\n",
    "        return A\n",
    "        \n",
    "    def forward(self, E_v, T_concat_text, attention_mask, target_explanation_ids=None, generate=False):\n",
    "        E_v = self.image_feature_proj_dim(E_v)\n",
    "\n",
    "        encoder_outputs = self.bart_model.model.encoder(\n",
    "            input_ids=T_concat_text,\n",
    "            attention_mask=attention_mask\n",
    "        )\n",
    "        E_t = encoder_outputs.last_hidden_state\n",
    "        \n",
    "        if E_v.shape[1] != E_t.shape[1]:\n",
    "            if self.image_seq_proj_len is not None:\n",
    "                E_v_proj = self.image_seq_proj_len(E_v.transpose(1, 2))\n",
    "                E_v = E_v_proj.transpose(1, 2)\n",
    "            else:\n",
    "                print(f\"Error: Sequence length mismatch ({E_v.shape[1]} vs {E_t.shape[1]}) but no projection layer defined.\")\n",
    "                raise ValueError(\"Sequence lengths differ but no projection layer available.\")\n",
    "\n",
    "        Q_v, K_v, V_v = self.query_v(E_v), self.key_v(E_v), self.value_v(E_v)\n",
    "        A_v = self._attention(Q_v, K_v, V_v, self.D_f)\n",
    "        \n",
    "        Q_t, K_t, V_t = self.query_t(E_t), self.key_t(E_t), self.value_t(E_t)\n",
    "        A_t = self._attention(Q_t, K_t, V_t, self.D_f)\n",
    "\n",
    "        F_vt = A_t * E_v\n",
    "        F_tv = A_v * E_t\n",
    "\n",
    "        G_v = torch.sigmoid(self.gate_v_layer(E_v))\n",
    "        G_t = torch.sigmoid(self.gate_t_layer(E_t))\n",
    "\n",
    "        F1 = (G_v * F_tv) + ((1 - G_v) * F_vt)\n",
    "        F2 = (G_t * F_tv) + ((1 - G_t) * F_vt)\n",
    "        F_v = (G_v * E_v) + ((1 - G_v) * F_tv)\n",
    "        F_t = (G_t * E_t) + ((1 - G_t) * F_vt)\n",
    "\n",
    "        F_SF = self.alpha1 * F1 + self.alpha2 * F2 + self.beta1 * F_v + self.beta2 * F_t\n",
    "\n",
    "        if generate:\n",
    "            encoder_output_object = BaseModelOutputWithPastAndCrossAttentions(\n",
    "                last_hidden_state=F_SF\n",
    "            )\n",
    "            generated_ids = self.bart_model.generate(\n",
    "                 encoder_outputs=encoder_output_object,\n",
    "                 attention_mask=attention_mask,\n",
    "                 num_beams=4,\n",
    "                 early_stopping=True\n",
    "            )\n",
    "            return generated_ids\n",
    "        else:\n",
    "            labels = None\n",
    "            if target_explanation_ids is not None:\n",
    "                 labels = target_explanation_ids.clone()\n",
    "                 labels[labels == self.bart_tokenizer.pad_token_id] = -100\n",
    "\n",
    "            outputs = self.bart_model(\n",
    "                 encoder_outputs=(F_SF,),\n",
    "                 attention_mask=attention_mask,\n",
    "                 labels=labels,\n",
    "                 return_dict=True\n",
    "            )\n",
    "            return outputs"
   ]
  },
  {
   "cell_type": "code",
   "execution_count": 7,
   "metadata": {
    "execution": {
     "iopub.execute_input": "2025-04-09T14:41:59.118770Z",
     "iopub.status.busy": "2025-04-09T14:41:59.118303Z",
     "iopub.status.idle": "2025-04-09T14:41:59.124510Z",
     "shell.execute_reply": "2025-04-09T14:41:59.123746Z",
     "shell.execute_reply.started": "2025-04-09T14:41:59.118737Z"
    },
    "trusted": true
   },
   "outputs": [],
   "source": [
    "def train_epoch(\n",
    "    model: BART_SF,\n",
    "    data_loader: torch.utils.data.DataLoader,\n",
    "    optimizer: optim.Optimizer\n",
    "):\n",
    "    model.train()\n",
    "    total_loss = 0\n",
    "\n",
    "    progress_bar = tqdm(data_loader, desc=\"Training Epoch\", leave=False)\n",
    "\n",
    "    for batch in progress_bar:\n",
    "        E_v_batch = batch['E_v'].to(DEVICE)\n",
    "        T_concat_ids_batch = batch['T_concat_ids'].to(DEVICE)\n",
    "        attention_mask_batch = batch['attention_mask'].to(DEVICE)\n",
    "        target_ids_batch = batch['target_explanation_ids'].to(DEVICE)\n",
    "\n",
    "        optimizer.zero_grad()\n",
    "\n",
    "        outputs = model(\n",
    "            E_v=E_v_batch,\n",
    "            T_concat_text=T_concat_ids_batch,\n",
    "            attention_mask=attention_mask_batch,\n",
    "            target_explanation_ids=target_ids_batch,\n",
    "            generate=False\n",
    "        )\n",
    "\n",
    "        loss = outputs.loss\n",
    "\n",
    "        loss.backward()\n",
    "        optimizer.step()\n",
    "\n",
    "        total_loss += loss.item()\n",
    "        progress_bar.set_postfix({'loss': loss.item()})\n",
    "\n",
    "    avg_loss = total_loss / len(data_loader)\n",
    "    print(f\"Average Training Loss: {avg_loss:.4f}\")\n",
    "    return avg_loss"
   ]
  },
  {
   "cell_type": "code",
   "execution_count": 8,
   "metadata": {
    "execution": {
     "iopub.execute_input": "2025-04-09T14:41:59.125719Z",
     "iopub.status.busy": "2025-04-09T14:41:59.125460Z",
     "iopub.status.idle": "2025-04-09T14:41:59.147569Z",
     "shell.execute_reply": "2025-04-09T14:41:59.146817Z",
     "shell.execute_reply.started": "2025-04-09T14:41:59.125699Z"
    },
    "trusted": true
   },
   "outputs": [],
   "source": [
    "def evaluate_model(\n",
    "    model: nn.Module, # Or specific class BART_SF\n",
    "    data_loader: torch.utils.data.DataLoader,\n",
    "    tokenizer: BartTokenizer, # Use specific tokenizer class if known\n",
    "    max_gen_length: int = 64,\n",
    "    num_samples_to_print: int = 5 # Set > 0 to print samples\n",
    "):\n",
    "    \"\"\"\n",
    "    Evaluates the model using ROUGE(1,2,L), BLEU(1-4 via Sacre), METEOR, BERTScore,\n",
    "    and prints sample reference/generated pairs.\n",
    "\n",
    "    Args:\n",
    "        model: The model instance (e.g., BART_SF).\n",
    "        data_loader: DataLoader for the evaluation set.\n",
    "        DEVICE: The DEVICE to run evaluation on ('cuda' or 'cpu').\n",
    "        tokenizer: The tokenizer used for decoding.\n",
    "        max_gen_length: Max length for generated sequences (Note: passed to generate if needed).\n",
    "        num_samples_to_print: How many reference/generated pairs to print.\n",
    "\n",
    "    Returns:\n",
    "        dict: A dictionary containing the calculated metric scores.\n",
    "              Returns None if evaluation fails.\n",
    "    \"\"\"\n",
    "    model.eval()\n",
    "    all_generated_texts = []\n",
    "    all_reference_texts = []\n",
    "    samples_printed_count = 0 # Counter for printed samples\n",
    "    metrics_loaded = True\n",
    "\n",
    "    # --- Initialize Metrics ---\n",
    "    try:\n",
    "        rouge_metric = evaluate.load('rouge')\n",
    "        # Using 'sacrebleu' for potentially easier access to BLEU-1..4 scores\n",
    "        bleu_metric = evaluate.load('sacrebleu')\n",
    "        meteor_metric = evaluate.load('meteor') # Requires NLTK + data\n",
    "        bertscore_metric = evaluate.load('bertscore')\n",
    "        print(\"Metrics (ROUGE, BLEU(Sacre), METEOR, BERTScore) loaded via evaluate.\")\n",
    "    except Exception as e:\n",
    "        print(f\"Error loading one or more metrics via evaluate: {e}\")\n",
    "        print(\"Ensure 'evaluate', 'rouge-score', 'sacrebleu', 'nltk', 'bert-score' are installed and NLTK data is available.\")\n",
    "        metrics_loaded = False\n",
    "        return None\n",
    "\n",
    "    # --- Check DataLoader Length ---\n",
    "    try:\n",
    "        dataloader_len = len(data_loader)\n",
    "        if dataloader_len == 0:\n",
    "             print(\"Error: Evaluation DataLoader is empty. Skipping evaluation.\")\n",
    "             return None\n",
    "        print(f\"Evaluation DataLoader contains {dataloader_len} batches.\")\n",
    "    except TypeError:\n",
    "         print(\"Warning: Could not determine DataLoader length beforehand.\")\n",
    "         dataloader_len = \"Unknown\"\n",
    "\n",
    "    print(\"Starting evaluation loop...\")\n",
    "    progress_bar = tqdm(data_loader, desc=\"Evaluating\", leave=False)\n",
    "\n",
    "    with torch.no_grad():\n",
    "        for i, batch in enumerate(progress_bar):\n",
    "            if batch is None: continue\n",
    "            try:\n",
    "                # Unpack batch and move to DEVICE\n",
    "                E_v_batch = batch['E_v'].to(DEVICE)\n",
    "                T_concat_ids_batch = batch['T_concat_ids'].to(DEVICE)\n",
    "                attention_mask_batch = batch['attention_mask'].to(DEVICE)\n",
    "                target_ids_batch = batch['target_explanation_ids'].to(DEVICE)\n",
    "\n",
    "                # Generate\n",
    "                generated_ids = model(E_v=E_v_batch, T_concat_text=T_concat_ids_batch,\n",
    "                                      attention_mask=attention_mask_batch, generate=True)\n",
    "\n",
    "                # Decode\n",
    "                generated_batch_texts = tokenizer.batch_decode(generated_ids, skip_special_tokens=True)\n",
    "                ref_ids_clone = target_ids_batch.clone()\n",
    "                ref_ids_clone[ref_ids_clone == -100] = tokenizer.pad_token_id\n",
    "                reference_batch_texts = tokenizer.batch_decode(ref_ids_clone, skip_special_tokens=True)\n",
    "\n",
    "                # --- Print Sample Outputs --- ## <<< ADDED BACK ##\n",
    "                if samples_printed_count < num_samples_to_print:\n",
    "                    num_to_print_this_batch = min(num_samples_to_print - samples_printed_count, len(generated_batch_texts))\n",
    "                    if num_to_print_this_batch > 0:\n",
    "                        print(f\"\\n--- Sample Outputs (Batch {i+1}) ---\")\n",
    "                        for idx in range(num_to_print_this_batch):\n",
    "                            print(f\"\\n[Sample {samples_printed_count + 1}]\")\n",
    "                            print(f\"  Reference : {reference_batch_texts[idx]}\")\n",
    "                            print(f\"  Generated : {generated_batch_texts[idx]}\")\n",
    "                            samples_printed_count += 1\n",
    "                        if num_to_print_this_batch > 0:\n",
    "                             print(\"-\" * 30)\n",
    "                # --- End Sample Printing --- ## <<< ADDED BACK ##\n",
    "\n",
    "                # --- Accumulate data for metrics ---\n",
    "                # Wrap references for sacrebleu: [[ref1], [ref2], ...]\n",
    "                references_for_bleu = [[ref] for ref in reference_batch_texts]\n",
    "\n",
    "                # Check for empty strings before adding, some metrics fail on them\n",
    "                valid_preds = [p for p, r in zip(generated_batch_texts, reference_batch_texts) if p and r]\n",
    "                valid_refs = [r for p, r in zip(generated_batch_texts, reference_batch_texts) if p and r]\n",
    "                valid_refs_for_bleu = [[r] for p, r in zip(generated_batch_texts, reference_batch_texts) if p and r]\n",
    "\n",
    "                if valid_preds: # Only add if there are valid pairs in the batch\n",
    "                    rouge_metric.add_batch(predictions=valid_preds, references=valid_refs)\n",
    "                    bleu_metric.add_batch(predictions=valid_preds, references=valid_refs_for_bleu)\n",
    "                    meteor_metric.add_batch(predictions=valid_preds, references=valid_refs)\n",
    "\n",
    "                    # Collect all for BERTScore (it might handle empties, but best to be consistent)\n",
    "                    all_generated_texts.extend(valid_preds)\n",
    "                    all_reference_texts.extend(valid_refs)\n",
    "\n",
    "            except Exception as e:\n",
    "                print(f\"Error processing batch {i+1}: {e}. Skipping.\")\n",
    "                # import traceback # Uncomment for debug\n",
    "                # traceback.print_exc()\n",
    "                continue\n",
    "\n",
    "    # --- Final Metric Computations ---\n",
    "    print(\"\\nCalculating final metrics...\")\n",
    "    if not all_generated_texts: # Check if any valid data was processed\n",
    "        print(\"Error: No valid texts were generated/collected. Cannot compute metrics.\")\n",
    "        return None\n",
    "\n",
    "    results = {}\n",
    "    computed_metrics = {}\n",
    "    try:\n",
    "        print(\"Computing ROUGE...\")\n",
    "        computed_metrics['rouge'] = rouge_metric.compute()\n",
    "        print(\"Computing BLEU (Sacre)...\")\n",
    "        computed_metrics['bleu'] = bleu_metric.compute()\n",
    "        print(\"Computing METEOR...\")\n",
    "        # !! This might fail again if NLTK/WordNet issue persists !!\n",
    "        computed_metrics['meteor'] = meteor_metric.compute()\n",
    "        print(\"Computing BERTScore...\")\n",
    "        computed_metrics['bertscore'] = bertscore_metric.compute(\n",
    "            predictions=all_generated_texts, references=all_reference_texts, lang=\"en\",\n",
    "            # model_type=\"microsoft/deberta-xlarge-mnli\" # Specify if needed\n",
    "            device=str(DEVICE)\n",
    "        )\n",
    "\n",
    "        # --- Format Results ---\n",
    "        # ROUGE\n",
    "        results['rouge1'] = computed_metrics['rouge'].get('rouge1', 0.0) # Use .get for safety\n",
    "        results['rouge2'] = computed_metrics['rouge'].get('rouge2', 0.0)\n",
    "        results['rougeL'] = computed_metrics['rouge'].get('rougeL', 0.0)\n",
    "\n",
    "        # BLEU (from Sacrebleu output)\n",
    "        results['bleu'] = computed_metrics['bleu'].get('score', 0.0) / 100.0\n",
    "        precisions = computed_metrics['bleu'].get('precisions', [0.0] * 4)\n",
    "        for i, prec in enumerate(precisions[:4]): # Ensure we only take up to 4\n",
    "             results[f'bleu-{i+1}'] = prec / 100.0\n",
    "\n",
    "        # METEOR\n",
    "        results['meteor'] = computed_metrics['meteor'].get('meteor', 0.0)\n",
    "\n",
    "        # BERTScore\n",
    "        results['bertscore_precision'] = np.mean(computed_metrics['bertscore'].get('precision', [0.0]))\n",
    "        results['bertscore_recall'] = np.mean(computed_metrics['bertscore'].get('recall', [0.0]))\n",
    "        results['bertscore_f1'] = np.mean(computed_metrics['bertscore'].get('f1', [0.0]))\n",
    "\n",
    "\n",
    "        print(\"\\nEvaluation Metrics Calculated:\")\n",
    "        # (Metric printing logic remains the same)\n",
    "        # ...\n",
    "        return results\n",
    "\n",
    "    except ImportError as e:\n",
    "         print(f\"\\nERROR calculating metrics: {e}\")\n",
    "         print(\"This often indicates a missing dependency (like NLTK data for METEOR).\")\n",
    "         return None\n",
    "    except Exception as e:\n",
    "        print(f\"\\nError calculating final metrics: {e}\")\n",
    "        # import traceback\n",
    "        # traceback.print_exc()\n",
    "        return None"
   ]
  },
  {
   "cell_type": "code",
   "execution_count": 8,
   "metadata": {
    "execution": {
     "iopub.execute_input": "2025-04-09T14:41:59.148621Z",
     "iopub.status.busy": "2025-04-09T14:41:59.148378Z",
     "iopub.status.idle": "2025-04-09T15:09:36.620973Z",
     "shell.execute_reply": "2025-04-09T15:09:36.620074Z",
     "shell.execute_reply.started": "2025-04-09T14:41:59.148597Z"
    },
    "trusted": true
   },
   "outputs": [
    {
     "data": {
      "application/vnd.jupyter.widget-view+json": {
       "model_id": "6869ef879c5644629d8df17643824270",
       "version_major": 2,
       "version_minor": 0
      },
      "text/plain": [
       "vocab.json:   0%|          | 0.00/899k [00:00<?, ?B/s]"
      ]
     },
     "metadata": {},
     "output_type": "display_data"
    },
    {
     "data": {
      "application/vnd.jupyter.widget-view+json": {
       "model_id": "79e286008750495e94820ba837e756e2",
       "version_major": 2,
       "version_minor": 0
      },
      "text/plain": [
       "merges.txt:   0%|          | 0.00/456k [00:00<?, ?B/s]"
      ]
     },
     "metadata": {},
     "output_type": "display_data"
    },
    {
     "data": {
      "application/vnd.jupyter.widget-view+json": {
       "model_id": "255b3d1fa3344677abf7fccc1efd7d73",
       "version_major": 2,
       "version_minor": 0
      },
      "text/plain": [
       "tokenizer.json:   0%|          | 0.00/1.36M [00:00<?, ?B/s]"
      ]
     },
     "metadata": {},
     "output_type": "display_data"
    },
    {
     "data": {
      "application/vnd.jupyter.widget-view+json": {
       "model_id": "43b5168c98494a44a0273a6afe01bc82",
       "version_major": 2,
       "version_minor": 0
      },
      "text/plain": [
       "config.json:   0%|          | 0.00/1.72k [00:00<?, ?B/s]"
      ]
     },
     "metadata": {},
     "output_type": "display_data"
    },
    {
     "data": {
      "application/vnd.jupyter.widget-view+json": {
       "model_id": "016b98a21db64a9189bd85c1458f9bdd",
       "version_major": 2,
       "version_minor": 0
      },
      "text/plain": [
       "model.safetensors:   0%|          | 0.00/558M [00:00<?, ?B/s]"
      ]
     },
     "metadata": {},
     "output_type": "display_data"
    },
    {
     "name": "stdout",
     "output_type": "stream",
     "text": [
      "\n",
      "--- Starting Training ---\n",
      "\n",
      "--- Epoch 1/10 ---\n"
     ]
    },
    {
     "name": "stderr",
     "output_type": "stream",
     "text": [
      "                                                                            \r"
     ]
    },
    {
     "name": "stdout",
     "output_type": "stream",
     "text": [
      "Average Training Loss: 1.8484\n"
     ]
    },
    {
     "data": {
      "application/vnd.jupyter.widget-view+json": {
       "model_id": "c716982af125423080b40aa74e0dec61",
       "version_major": 2,
       "version_minor": 0
      },
      "text/plain": [
       "Downloading builder script:   0%|          | 0.00/5.94k [00:00<?, ?B/s]"
      ]
     },
     "metadata": {},
     "output_type": "display_data"
    },
    {
     "data": {
      "application/vnd.jupyter.widget-view+json": {
       "model_id": "d6de43b9a1f24cd884774f96076514c3",
       "version_major": 2,
       "version_minor": 0
      },
      "text/plain": [
       "Downloading extra modules:   0%|          | 0.00/1.55k [00:00<?, ?B/s]"
      ]
     },
     "metadata": {},
     "output_type": "display_data"
    },
    {
     "data": {
      "application/vnd.jupyter.widget-view+json": {
       "model_id": "40305e649fdf4f8db069d6d21c5292e7",
       "version_major": 2,
       "version_minor": 0
      },
      "text/plain": [
       "Downloading extra modules:   0%|          | 0.00/3.34k [00:00<?, ?B/s]"
      ]
     },
     "metadata": {},
     "output_type": "display_data"
    },
    {
     "name": "stderr",
     "output_type": "stream",
     "text": [
      "                                                           \r"
     ]
    },
    {
     "data": {
      "application/vnd.jupyter.widget-view+json": {
       "model_id": "89792fe838804fea864662c0a92c2124",
       "version_major": 2,
       "version_minor": 0
      },
      "text/plain": [
       "tokenizer_config.json:   0%|          | 0.00/25.0 [00:00<?, ?B/s]"
      ]
     },
     "metadata": {},
     "output_type": "display_data"
    },
    {
     "data": {
      "application/vnd.jupyter.widget-view+json": {
       "model_id": "c337062f3e6c400e8bde15a7361d79f7",
       "version_major": 2,
       "version_minor": 0
      },
      "text/plain": [
       "config.json:   0%|          | 0.00/482 [00:00<?, ?B/s]"
      ]
     },
     "metadata": {},
     "output_type": "display_data"
    },
    {
     "data": {
      "application/vnd.jupyter.widget-view+json": {
       "model_id": "25db20cbe04b43f899089a773e537d7e",
       "version_major": 2,
       "version_minor": 0
      },
      "text/plain": [
       "vocab.json:   0%|          | 0.00/899k [00:00<?, ?B/s]"
      ]
     },
     "metadata": {},
     "output_type": "display_data"
    },
    {
     "data": {
      "application/vnd.jupyter.widget-view+json": {
       "model_id": "4918983d267a4ec5bfbaa40d65048a24",
       "version_major": 2,
       "version_minor": 0
      },
      "text/plain": [
       "merges.txt:   0%|          | 0.00/456k [00:00<?, ?B/s]"
      ]
     },
     "metadata": {},
     "output_type": "display_data"
    },
    {
     "data": {
      "application/vnd.jupyter.widget-view+json": {
       "model_id": "f8c7b333afd643ddac7cc3fc54923fc2",
       "version_major": 2,
       "version_minor": 0
      },
      "text/plain": [
       "tokenizer.json:   0%|          | 0.00/1.36M [00:00<?, ?B/s]"
      ]
     },
     "metadata": {},
     "output_type": "display_data"
    },
    {
     "data": {
      "application/vnd.jupyter.widget-view+json": {
       "model_id": "8a43eab3f3214faf97706f8ad67df727",
       "version_major": 2,
       "version_minor": 0
      },
      "text/plain": [
       "model.safetensors:   0%|          | 0.00/1.42G [00:00<?, ?B/s]"
      ]
     },
     "metadata": {},
     "output_type": "display_data"
    },
    {
     "name": "stderr",
     "output_type": "stream",
     "text": [
      "Some weights of RobertaModel were not initialized from the model checkpoint at roberta-large and are newly initialized: ['roberta.pooler.dense.bias', 'roberta.pooler.dense.weight']\n",
      "You should probably TRAIN this model on a down-stream task to be able to use it for predictions and inference.\n"
     ]
    },
    {
     "name": "stdout",
     "output_type": "stream",
     "text": [
      "Evaluation Metrics Calculated:\n",
      "{'rouge1_precision': 0.6174682343799991, 'rouge1_recall': 0.5083284061357223, 'rouge1_fmeasure': 0.5379979686215518, 'rouge2_precision': 0.4355112749062329, 'rouge2_recall': 0.3497356043181718, 'rouge2_fmeasure': 0.3736501266790426, 'rougeL_precision': 0.5831083799487161, 'rougeL_recall': 0.4800769388053154, 'rougeL_fmeasure': 0.5081060896549834, 'bleu': 0.30609142781222914, 'bertscore_precision': 0.9225200414657593, 'bertscore_recall': 0.9103135466575623, 'bertscore_f1': 0.9161460399627686}\n",
      "Epoch 1 Validation Metrics:\n",
      "  rouge1_precision: 0.6175\n",
      "  rouge1_recall: 0.5083\n",
      "  rouge1_fmeasure: 0.5380\n",
      "  rouge2_precision: 0.4355\n",
      "  rouge2_recall: 0.3497\n",
      "  rouge2_fmeasure: 0.3737\n",
      "  rougeL_precision: 0.5831\n",
      "  rougeL_recall: 0.4801\n",
      "  rougeL_fmeasure: 0.5081\n",
      "  bleu: 0.3061\n",
      "  bertscore_precision: 0.9225\n",
      "  bertscore_recall: 0.9103\n",
      "  bertscore_f1: 0.9161\n",
      "Saving model state dict to: /kaggle/working/model_checkpoints/epoch_1/model.pkl\n",
      "Saving tokenizer to: /kaggle/working/model_checkpoints/epoch_1\n",
      "\n",
      "--- Epoch 2/10 ---\n"
     ]
    },
    {
     "name": "stderr",
     "output_type": "stream",
     "text": [
      "                                                                             \r"
     ]
    },
    {
     "name": "stdout",
     "output_type": "stream",
     "text": [
      "Average Training Loss: 1.3214\n"
     ]
    },
    {
     "name": "stderr",
     "output_type": "stream",
     "text": [
      "Some weights of RobertaModel were not initialized from the model checkpoint at roberta-large and are newly initialized: ['roberta.pooler.dense.bias', 'roberta.pooler.dense.weight']\n",
      "You should probably TRAIN this model on a down-stream task to be able to use it for predictions and inference.\n"
     ]
    },
    {
     "name": "stdout",
     "output_type": "stream",
     "text": [
      "Evaluation Metrics Calculated:\n",
      "{'rouge1_precision': 0.6247621071738719, 'rouge1_recall': 0.5227589435414789, 'rouge1_fmeasure': 0.5514960183593984, 'rouge2_precision': 0.45023959420598075, 'rouge2_recall': 0.371105417792889, 'rouge2_fmeasure': 0.3941704933481009, 'rougeL_precision': 0.5889351199687334, 'rougeL_recall': 0.49187262455479175, 'rougeL_fmeasure': 0.5198524342165057, 'bleu': 0.32369477132635693, 'bertscore_precision': 0.9249452352523804, 'bertscore_recall': 0.9132773280143738, 'bertscore_f1': 0.9188628196716309}\n",
      "Epoch 2 Validation Metrics:\n",
      "  rouge1_precision: 0.6248\n",
      "  rouge1_recall: 0.5228\n",
      "  rouge1_fmeasure: 0.5515\n",
      "  rouge2_precision: 0.4502\n",
      "  rouge2_recall: 0.3711\n",
      "  rouge2_fmeasure: 0.3942\n",
      "  rougeL_precision: 0.5889\n",
      "  rougeL_recall: 0.4919\n",
      "  rougeL_fmeasure: 0.5199\n",
      "  bleu: 0.3237\n",
      "  bertscore_precision: 0.9249\n",
      "  bertscore_recall: 0.9133\n",
      "  bertscore_f1: 0.9189\n",
      "Saving model state dict to: /kaggle/working/model_checkpoints/epoch_2/model.pkl\n",
      "Saving tokenizer to: /kaggle/working/model_checkpoints/epoch_2\n",
      "\n",
      "--- Epoch 3/10 ---\n"
     ]
    },
    {
     "name": "stderr",
     "output_type": "stream",
     "text": [
      "                                                                             \r"
     ]
    },
    {
     "name": "stdout",
     "output_type": "stream",
     "text": [
      "Average Training Loss: 0.9704\n"
     ]
    },
    {
     "name": "stderr",
     "output_type": "stream",
     "text": [
      "Some weights of RobertaModel were not initialized from the model checkpoint at roberta-large and are newly initialized: ['roberta.pooler.dense.bias', 'roberta.pooler.dense.weight']\n",
      "You should probably TRAIN this model on a down-stream task to be able to use it for predictions and inference.\n"
     ]
    },
    {
     "name": "stdout",
     "output_type": "stream",
     "text": [
      "Evaluation Metrics Calculated:\n",
      "{'rouge1_precision': 0.6255232447291271, 'rouge1_recall': 0.5295100404371137, 'rouge1_fmeasure': 0.5558628321666712, 'rouge2_precision': 0.4445375921930544, 'rouge2_recall': 0.37252222886396996, 'rouge2_fmeasure': 0.391755402705915, 'rougeL_precision': 0.591180281436584, 'rougeL_recall': 0.5021979835439279, 'rougeL_fmeasure': 0.526314888820969, 'bleu': 0.32561651074436193, 'bertscore_precision': 0.9252222776412964, 'bertscore_recall': 0.9159884452819824, 'bertscore_f1': 0.920348584651947}\n",
      "Epoch 3 Validation Metrics:\n",
      "  rouge1_precision: 0.6255\n",
      "  rouge1_recall: 0.5295\n",
      "  rouge1_fmeasure: 0.5559\n",
      "  rouge2_precision: 0.4445\n",
      "  rouge2_recall: 0.3725\n",
      "  rouge2_fmeasure: 0.3918\n",
      "  rougeL_precision: 0.5912\n",
      "  rougeL_recall: 0.5022\n",
      "  rougeL_fmeasure: 0.5263\n",
      "  bleu: 0.3256\n",
      "  bertscore_precision: 0.9252\n",
      "  bertscore_recall: 0.9160\n",
      "  bertscore_f1: 0.9203\n",
      "Saving model state dict to: /kaggle/working/model_checkpoints/epoch_3/model.pkl\n",
      "Saving tokenizer to: /kaggle/working/model_checkpoints/epoch_3\n",
      "\n",
      "--- Epoch 4/10 ---\n"
     ]
    },
    {
     "name": "stderr",
     "output_type": "stream",
     "text": [
      "                                                                             \r"
     ]
    },
    {
     "name": "stdout",
     "output_type": "stream",
     "text": [
      "Average Training Loss: 0.7336\n"
     ]
    },
    {
     "name": "stderr",
     "output_type": "stream",
     "text": [
      "Some weights of RobertaModel were not initialized from the model checkpoint at roberta-large and are newly initialized: ['roberta.pooler.dense.bias', 'roberta.pooler.dense.weight']\n",
      "You should probably TRAIN this model on a down-stream task to be able to use it for predictions and inference.\n"
     ]
    },
    {
     "name": "stdout",
     "output_type": "stream",
     "text": [
      "Evaluation Metrics Calculated:\n",
      "{'rouge1_precision': 0.6164396714396714, 'rouge1_recall': 0.519779039688791, 'rouge1_fmeasure': 0.5483260731642086, 'rouge2_precision': 0.4369193271714281, 'rouge2_recall': 0.36195212370101876, 'rouge2_fmeasure': 0.38439561866499, 'rougeL_precision': 0.58123284978327, 'rougeL_recall': 0.48949466979296924, 'rougeL_fmeasure': 0.5168683165777449, 'bleu': 0.31631220426130047, 'bertscore_precision': 0.9239041805267334, 'bertscore_recall': 0.9132238626480103, 'bertscore_f1': 0.918347954750061}\n",
      "Epoch 4 Validation Metrics:\n",
      "  rouge1_precision: 0.6164\n",
      "  rouge1_recall: 0.5198\n",
      "  rouge1_fmeasure: 0.5483\n",
      "  rouge2_precision: 0.4369\n",
      "  rouge2_recall: 0.3620\n",
      "  rouge2_fmeasure: 0.3844\n",
      "  rougeL_precision: 0.5812\n",
      "  rougeL_recall: 0.4895\n",
      "  rougeL_fmeasure: 0.5169\n",
      "  bleu: 0.3163\n",
      "  bertscore_precision: 0.9239\n",
      "  bertscore_recall: 0.9132\n",
      "  bertscore_f1: 0.9183\n",
      "Saving model state dict to: /kaggle/working/model_checkpoints/epoch_4/model.pkl\n",
      "Saving tokenizer to: /kaggle/working/model_checkpoints/epoch_4\n",
      "\n",
      "--- Epoch 5/10 ---\n"
     ]
    },
    {
     "name": "stderr",
     "output_type": "stream",
     "text": [
      "                                                                             \r"
     ]
    },
    {
     "name": "stdout",
     "output_type": "stream",
     "text": [
      "Average Training Loss: 0.5532\n"
     ]
    },
    {
     "name": "stderr",
     "output_type": "stream",
     "text": [
      "Some weights of RobertaModel were not initialized from the model checkpoint at roberta-large and are newly initialized: ['roberta.pooler.dense.bias', 'roberta.pooler.dense.weight']\n",
      "You should probably TRAIN this model on a down-stream task to be able to use it for predictions and inference.\n"
     ]
    },
    {
     "name": "stdout",
     "output_type": "stream",
     "text": [
      "Evaluation Metrics Calculated:\n",
      "{'rouge1_precision': 0.6374961275885646, 'rouge1_recall': 0.54055835284725, 'rouge1_fmeasure': 0.5688508778901757, 'rouge2_precision': 0.45362189817652004, 'rouge2_recall': 0.3798418158816994, 'rouge2_fmeasure': 0.4002821554616852, 'rougeL_precision': 0.6025915918815079, 'rougeL_recall': 0.5103353276342488, 'rougeL_fmeasure': 0.5373808264014763, 'bleu': 0.32016752289260914, 'bertscore_precision': 0.9261388182640076, 'bertscore_recall': 0.9163761734962463, 'bertscore_f1': 0.9210516214370728}\n",
      "Epoch 5 Validation Metrics:\n",
      "  rouge1_precision: 0.6375\n",
      "  rouge1_recall: 0.5406\n",
      "  rouge1_fmeasure: 0.5689\n",
      "  rouge2_precision: 0.4536\n",
      "  rouge2_recall: 0.3798\n",
      "  rouge2_fmeasure: 0.4003\n",
      "  rougeL_precision: 0.6026\n",
      "  rougeL_recall: 0.5103\n",
      "  rougeL_fmeasure: 0.5374\n",
      "  bleu: 0.3202\n",
      "  bertscore_precision: 0.9261\n",
      "  bertscore_recall: 0.9164\n",
      "  bertscore_f1: 0.9211\n",
      "Saving model state dict to: /kaggle/working/model_checkpoints/epoch_5/model.pkl\n",
      "Saving tokenizer to: /kaggle/working/model_checkpoints/epoch_5\n",
      "\n",
      "--- Epoch 6/10 ---\n"
     ]
    },
    {
     "name": "stderr",
     "output_type": "stream",
     "text": [
      "                                                                             \r"
     ]
    },
    {
     "name": "stdout",
     "output_type": "stream",
     "text": [
      "Average Training Loss: 0.4123\n"
     ]
    },
    {
     "name": "stderr",
     "output_type": "stream",
     "text": [
      "Some weights of RobertaModel were not initialized from the model checkpoint at roberta-large and are newly initialized: ['roberta.pooler.dense.bias', 'roberta.pooler.dense.weight']\n",
      "You should probably TRAIN this model on a down-stream task to be able to use it for predictions and inference.\n"
     ]
    },
    {
     "name": "stdout",
     "output_type": "stream",
     "text": [
      "Evaluation Metrics Calculated:\n",
      "{'rouge1_precision': 0.5921042664151908, 'rouge1_recall': 0.5229908144729495, 'rouge1_fmeasure': 0.5387949831499098, 'rouge2_precision': 0.40788839731696874, 'rouge2_recall': 0.35300754178177873, 'rouge2_fmeasure': 0.3670157453812976, 'rougeL_precision': 0.5533842889137007, 'rougeL_recall': 0.4868178291936702, 'rougeL_fmeasure': 0.5028045655502881, 'bleu': 0.3012895924754538, 'bertscore_precision': 0.920824408531189, 'bertscore_recall': 0.9144759774208069, 'bertscore_f1': 0.9174407124519348}\n",
      "Epoch 6 Validation Metrics:\n",
      "  rouge1_precision: 0.5921\n",
      "  rouge1_recall: 0.5230\n",
      "  rouge1_fmeasure: 0.5388\n",
      "  rouge2_precision: 0.4079\n",
      "  rouge2_recall: 0.3530\n",
      "  rouge2_fmeasure: 0.3670\n",
      "  rougeL_precision: 0.5534\n",
      "  rougeL_recall: 0.4868\n",
      "  rougeL_fmeasure: 0.5028\n",
      "  bleu: 0.3013\n",
      "  bertscore_precision: 0.9208\n",
      "  bertscore_recall: 0.9145\n",
      "  bertscore_f1: 0.9174\n",
      "Saving model state dict to: /kaggle/working/model_checkpoints/epoch_6/model.pkl\n",
      "Saving tokenizer to: /kaggle/working/model_checkpoints/epoch_6\n",
      "\n",
      "--- Epoch 7/10 ---\n"
     ]
    },
    {
     "name": "stderr",
     "output_type": "stream",
     "text": [
      "                                                                             \r"
     ]
    },
    {
     "name": "stdout",
     "output_type": "stream",
     "text": [
      "Average Training Loss: 0.3072\n"
     ]
    },
    {
     "name": "stderr",
     "output_type": "stream",
     "text": [
      "Some weights of RobertaModel were not initialized from the model checkpoint at roberta-large and are newly initialized: ['roberta.pooler.dense.bias', 'roberta.pooler.dense.weight']\n",
      "You should probably TRAIN this model on a down-stream task to be able to use it for predictions and inference.\n"
     ]
    },
    {
     "name": "stdout",
     "output_type": "stream",
     "text": [
      "Evaluation Metrics Calculated:\n",
      "{'rouge1_precision': 0.6153362076765438, 'rouge1_recall': 0.5538350750227122, 'rouge1_fmeasure': 0.5645293503147827, 'rouge2_precision': 0.45025453864529497, 'rouge2_recall': 0.3987495641842231, 'rouge2_fmeasure': 0.40831592715304216, 'rougeL_precision': 0.5846934340169634, 'rougeL_recall': 0.5239810145324132, 'rougeL_fmeasure': 0.5353093713173054, 'bleu': 0.3234946297198962, 'bertscore_precision': 0.9219918251037598, 'bertscore_recall': 0.9173619151115417, 'bertscore_f1': 0.9194568991661072}\n",
      "Epoch 7 Validation Metrics:\n",
      "  rouge1_precision: 0.6153\n",
      "  rouge1_recall: 0.5538\n",
      "  rouge1_fmeasure: 0.5645\n",
      "  rouge2_precision: 0.4503\n",
      "  rouge2_recall: 0.3987\n",
      "  rouge2_fmeasure: 0.4083\n",
      "  rougeL_precision: 0.5847\n",
      "  rougeL_recall: 0.5240\n",
      "  rougeL_fmeasure: 0.5353\n",
      "  bleu: 0.3235\n",
      "  bertscore_precision: 0.9220\n",
      "  bertscore_recall: 0.9174\n",
      "  bertscore_f1: 0.9195\n",
      "Saving model state dict to: /kaggle/working/model_checkpoints/epoch_7/model.pkl\n",
      "Saving tokenizer to: /kaggle/working/model_checkpoints/epoch_7\n",
      "\n",
      "--- Epoch 8/10 ---\n"
     ]
    },
    {
     "name": "stderr",
     "output_type": "stream",
     "text": [
      "                                                                             \r"
     ]
    },
    {
     "name": "stdout",
     "output_type": "stream",
     "text": [
      "Average Training Loss: 0.2316\n"
     ]
    },
    {
     "name": "stderr",
     "output_type": "stream",
     "text": [
      "Some weights of RobertaModel were not initialized from the model checkpoint at roberta-large and are newly initialized: ['roberta.pooler.dense.bias', 'roberta.pooler.dense.weight']\n",
      "You should probably TRAIN this model on a down-stream task to be able to use it for predictions and inference.\n"
     ]
    },
    {
     "name": "stdout",
     "output_type": "stream",
     "text": [
      "Evaluation Metrics Calculated:\n",
      "{'rouge1_precision': 0.622826909784893, 'rouge1_recall': 0.5291146423229871, 'rouge1_fmeasure': 0.5528557840389691, 'rouge2_precision': 0.43945861887878696, 'rouge2_recall': 0.3744228759993344, 'rouge2_fmeasure': 0.39004281226037735, 'rougeL_precision': 0.5867173703980425, 'rougeL_recall': 0.5022075399387016, 'rougeL_fmeasure': 0.5234083178206667, 'bleu': 0.3239130600526213, 'bertscore_precision': 0.9244793057441711, 'bertscore_recall': 0.9151553511619568, 'bertscore_f1': 0.9195706844329834}\n",
      "Epoch 8 Validation Metrics:\n",
      "  rouge1_precision: 0.6228\n",
      "  rouge1_recall: 0.5291\n",
      "  rouge1_fmeasure: 0.5529\n",
      "  rouge2_precision: 0.4395\n",
      "  rouge2_recall: 0.3744\n",
      "  rouge2_fmeasure: 0.3900\n",
      "  rougeL_precision: 0.5867\n",
      "  rougeL_recall: 0.5022\n",
      "  rougeL_fmeasure: 0.5234\n",
      "  bleu: 0.3239\n",
      "  bertscore_precision: 0.9245\n",
      "  bertscore_recall: 0.9152\n",
      "  bertscore_f1: 0.9196\n",
      "Saving model state dict to: /kaggle/working/model_checkpoints/epoch_8/model.pkl\n",
      "Saving tokenizer to: /kaggle/working/model_checkpoints/epoch_8\n",
      "\n",
      "--- Epoch 9/10 ---\n"
     ]
    },
    {
     "name": "stderr",
     "output_type": "stream",
     "text": [
      "                                                                              \r"
     ]
    },
    {
     "name": "stdout",
     "output_type": "stream",
     "text": [
      "Average Training Loss: 0.1729\n"
     ]
    },
    {
     "name": "stderr",
     "output_type": "stream",
     "text": [
      "Some weights of RobertaModel were not initialized from the model checkpoint at roberta-large and are newly initialized: ['roberta.pooler.dense.bias', 'roberta.pooler.dense.weight']\n",
      "You should probably TRAIN this model on a down-stream task to be able to use it for predictions and inference.\n"
     ]
    },
    {
     "name": "stdout",
     "output_type": "stream",
     "text": [
      "Evaluation Metrics Calculated:\n",
      "{'rouge1_precision': 0.6091538274983653, 'rouge1_recall': 0.5383019574211229, 'rouge1_fmeasure': 0.554771974107218, 'rouge2_precision': 0.43590832650076355, 'rouge2_recall': 0.37783479424473343, 'rouge2_fmeasure': 0.3919702041932421, 'rougeL_precision': 0.5727473730751041, 'rougeL_recall': 0.5033885242173212, 'rougeL_fmeasure': 0.5201948060554195, 'bleu': 0.31671566897442527, 'bertscore_precision': 0.9218881726264954, 'bertscore_recall': 0.914803147315979, 'bertscore_f1': 0.9181503057479858}\n",
      "Epoch 9 Validation Metrics:\n",
      "  rouge1_precision: 0.6092\n",
      "  rouge1_recall: 0.5383\n",
      "  rouge1_fmeasure: 0.5548\n",
      "  rouge2_precision: 0.4359\n",
      "  rouge2_recall: 0.3778\n",
      "  rouge2_fmeasure: 0.3920\n",
      "  rougeL_precision: 0.5727\n",
      "  rougeL_recall: 0.5034\n",
      "  rougeL_fmeasure: 0.5202\n",
      "  bleu: 0.3167\n",
      "  bertscore_precision: 0.9219\n",
      "  bertscore_recall: 0.9148\n",
      "  bertscore_f1: 0.9182\n",
      "Saving model state dict to: /kaggle/working/model_checkpoints/epoch_9/model.pkl\n",
      "Saving tokenizer to: /kaggle/working/model_checkpoints/epoch_9\n",
      "\n",
      "--- Epoch 10/10 ---\n"
     ]
    },
    {
     "name": "stderr",
     "output_type": "stream",
     "text": [
      "                                                                              \r"
     ]
    },
    {
     "name": "stdout",
     "output_type": "stream",
     "text": [
      "Average Training Loss: 0.1401\n"
     ]
    },
    {
     "name": "stderr",
     "output_type": "stream",
     "text": [
      "Some weights of RobertaModel were not initialized from the model checkpoint at roberta-large and are newly initialized: ['roberta.pooler.dense.bias', 'roberta.pooler.dense.weight']\n",
      "You should probably TRAIN this model on a down-stream task to be able to use it for predictions and inference.\n"
     ]
    },
    {
     "name": "stdout",
     "output_type": "stream",
     "text": [
      "Evaluation Metrics Calculated:\n",
      "{'rouge1_precision': 0.6164762632325658, 'rouge1_recall': 0.5182278820641605, 'rouge1_fmeasure': 0.5462481215951914, 'rouge2_precision': 0.4351308294879724, 'rouge2_recall': 0.3594346647054233, 'rouge2_fmeasure': 0.3807501499557381, 'rougeL_precision': 0.5827098298526869, 'rougeL_recall': 0.4886256633460146, 'rougeL_fmeasure': 0.5162027500259964, 'bleu': 0.308688895738145, 'bertscore_precision': 0.9240379333496094, 'bertscore_recall': 0.9142255783081055, 'bertscore_f1': 0.9189184308052063}\n",
      "Epoch 10 Validation Metrics:\n",
      "  rouge1_precision: 0.6165\n",
      "  rouge1_recall: 0.5182\n",
      "  rouge1_fmeasure: 0.5462\n",
      "  rouge2_precision: 0.4351\n",
      "  rouge2_recall: 0.3594\n",
      "  rouge2_fmeasure: 0.3808\n",
      "  rougeL_precision: 0.5827\n",
      "  rougeL_recall: 0.4886\n",
      "  rougeL_fmeasure: 0.5162\n",
      "  bleu: 0.3087\n",
      "  bertscore_precision: 0.9240\n",
      "  bertscore_recall: 0.9142\n",
      "  bertscore_f1: 0.9189\n",
      "Saving model state dict to: /kaggle/working/model_checkpoints/epoch_10/model.pkl\n",
      "Saving tokenizer to: /kaggle/working/model_checkpoints/epoch_10\n"
     ]
    },
    {
     "data": {
      "image/png": "[encoded data removed]",
      "text/plain": [
       "<Figure size 800x500 with 1 Axes>"
      ]
     },
     "metadata": {},
     "output_type": "display_data"
    }
   ],
   "source": [
    "BASE_DATA_PATH = '/kaggle/input/muse-dataset/'\n",
    "TRAIN_TSV = os.path.join(BASE_DATA_PATH, 'train_df.tsv')\n",
    "VAL_TSV = os.path.join(BASE_DATA_PATH, 'val_df.tsv')\n",
    "TRAIN_OBJECTS_PKL = os.path.join(BASE_DATA_PATH, 'O_train.pkl')\n",
    "VAL_OBJECTS_PKL = os.path.join(BASE_DATA_PATH, 'O_val.pkl')\n",
    "TRAIN_DESCRIPTIONS_PKL = os.path.join(BASE_DATA_PATH, 'D_train.pkl')\n",
    "VAL_DESCRIPTIONS_PKL = os.path.join(BASE_DATA_PATH, 'D_val.pkl')\n",
    "IMAGE_DIR = os.path.join(BASE_DATA_PATH, 'images/')\n",
    "OUTPUT_DIR = '/kaggle/working/model_checkpoints/'\n",
    "\n",
    "BART_MODEL_NAME = \"facebook/bart-base\"\n",
    "VIT_MODEL_NAME = \"google/vit-base-patch16-224-in21k\"\n",
    "\n",
    "VIT_SEQ_LEN = 197\n",
    "TEXT_SEQ_LEN = 256\n",
    "EXP_MAX_LEN = 64\n",
    "\n",
    "LEARNING_RATE = 1e-4\n",
    "NUM_EPOCHS = 10\n",
    "BATCH_SIZE = 16\n",
    "\n",
    "os.makedirs(OUTPUT_DIR, exist_ok=True)\n",
    "\n",
    "bart_tokenizer = BartTokenizer.from_pretrained(BART_MODEL_NAME)\n",
    "vit_processor = ViTImageProcessor.from_pretrained(VIT_MODEL_NAME)\n",
    "\n",
    "vit_feature_extractor = FeatureExtractorViT(VIT_MODEL_NAME).to(DEVICE)\n",
    "vit_feature_extractor.eval()\n",
    "\n",
    "try:\n",
    "    train_dataset = MuSEDataset(\n",
    "        tsv_path=TRAIN_TSV,\n",
    "        objects_pkl_path=TRAIN_OBJECTS_PKL,\n",
    "        descriptions_pkl_path=TRAIN_DESCRIPTIONS_PKL,\n",
    "        image_dir=IMAGE_DIR\n",
    "    )\n",
    "    val_dataset = MuSEDataset(\n",
    "        tsv_path=VAL_TSV,\n",
    "        objects_pkl_path=VAL_OBJECTS_PKL,\n",
    "        descriptions_pkl_path=VAL_DESCRIPTIONS_PKL,\n",
    "        image_dir=IMAGE_DIR\n",
    "    )\n",
    "except FileNotFoundError as e:\n",
    "    print(f\"Error loading dataset files: {e}\")\n",
    "    print(\"Please ensure all dataset paths are correct.\")\n",
    "    exit()\n",
    "    \n",
    "data_collator = MuseDataCollator(\n",
    "    bart_tokenizer=bart_tokenizer,\n",
    "    vit_processor=vit_processor,\n",
    "    vit_model=vit_feature_extractor.vit_model, # Pass the actual ViT model part\n",
    "    text_max_len=TEXT_SEQ_LEN,\n",
    "    explanation_max_len=EXP_MAX_LEN,\n",
    ")\n",
    "\n",
    "train_dataloader = DataLoader(\n",
    "    train_dataset,\n",
    "    batch_size=BATCH_SIZE,\n",
    "    collate_fn=data_collator,\n",
    "    shuffle=True,\n",
    "    pin_memory=True if DEVICE == 'cuda' else False # Improve GPU transfer speed\n",
    ")\n",
    "val_dataloader = DataLoader(\n",
    "    val_dataset,\n",
    "    batch_size=BATCH_SIZE,\n",
    "    collate_fn=data_collator,\n",
    "    shuffle=False,\n",
    "    pin_memory=True if DEVICE == 'cuda' else False\n",
    ")\n",
    "\n",
    "model = BART_SF(\n",
    "    bart_model_name=BART_MODEL_NAME,\n",
    "    bart_tokenizer=bart_tokenizer,\n",
    "    vit_feature_extractor=vit_feature_extractor,\n",
    "    vit_seq_len=VIT_SEQ_LEN,\n",
    "    text_seq_len=TEXT_SEQ_LEN\n",
    ").to(DEVICE)\n",
    "\n",
    "optimizer = optim.AdamW(model.parameters(), lr=LEARNING_RATE)\n",
    "train_losses = []\n",
    "\n",
    "print(\"\\n--- Starting Training ---\")\n",
    "for epoch in range(NUM_EPOCHS):\n",
    "    print(f\"\\n--- Epoch {epoch+1}/{NUM_EPOCHS} ---\")\n",
    "    avg_train_loss = train_epoch(model, train_dataloader, optimizer)\n",
    "    train_losses.append(avg_train_loss)\n",
    "\n",
    "    val_metrics = evaluate_model(model, val_dataloader, bart_tokenizer, EXP_MAX_LEN)\n",
    "    if val_metrics:\n",
    "        print(f\"Epoch {epoch+1} Validation Metrics:\")\n",
    "        for metric, score in val_metrics.items():\n",
    "             if isinstance(score, dict):\n",
    "                 print(f\"  {metric}:\")\n",
    "                 for sub_metric, sub_score in score.items():\n",
    "                     print(f\"    {sub_metric}: {sub_score:.4f}\")\n",
    "             else:\n",
    "                 print(f\"  {metric}: {score:.4f}\")\n",
    "    else:\n",
    "        print(\"Validation evaluation failed.\")\n",
    "\n",
    "    epoch_checkpoint_dir = os.path.join(OUTPUT_DIR, f\"epoch_{epoch+1}\")\n",
    "    os.makedirs(epoch_checkpoint_dir, exist_ok=True)\n",
    "\n",
    "    model_save_path = os.path.join(epoch_checkpoint_dir, \"model.pkl\")\n",
    "    print(f\"Saving model state dict to: {model_save_path}\")\n",
    "    torch.save(model, model_save_path)\n",
    "\n",
    "    print(f\"Saving tokenizer to: {epoch_checkpoint_dir}\")\n",
    "    model.bart_tokenizer.save_pretrained(epoch_checkpoint_dir)\n",
    "\n",
    "plt.figure(figsize=(8, 5))\n",
    "plt.plot(train_losses, marker='o', linestyle='-', color='blue', label='Train Loss')\n",
    "plt.title('Training Loss over Epochs')\n",
    "plt.xlabel('Epoch')\n",
    "plt.ylabel('Loss')\n",
    "plt.grid(True)\n",
    "plt.legend()\n",
    "plt.tight_layout()\n",
    "plt.show()"
   ]
  },
  {
   "cell_type": "code",
   "execution_count": 9,
   "metadata": {
    "execution": {
     "iopub.execute_input": "2025-04-09T15:09:36.622378Z",
     "iopub.status.busy": "2025-04-09T15:09:36.622042Z",
     "iopub.status.idle": "2025-04-09T15:09:36.626685Z",
     "shell.execute_reply": "2025-04-09T15:09:36.625898Z",
     "shell.execute_reply.started": "2025-04-09T15:09:36.622345Z"
    },
    "trusted": true
   },
   "outputs": [
    {
     "name": "stdout",
     "output_type": "stream",
     "text": [
      "Model loaded successfully.\n"
     ]
    },
    {
     "name": "stderr",
     "output_type": "stream",
     "text": [
      "[nltk_data] Downloading package wordnet to\n",
      "[nltk_data]     C:\\Users\\amart\\AppData\\Roaming\\nltk_data...\n",
      "[nltk_data]   Package wordnet is already up-to-date!\n",
      "[nltk_data] Downloading package punkt_tab to\n",
      "[nltk_data]     C:\\Users\\amart\\AppData\\Roaming\\nltk_data...\n",
      "[nltk_data]   Package punkt_tab is already up-to-date!\n",
      "[nltk_data] Downloading package omw-1.4 to\n",
      "[nltk_data]     C:\\Users\\amart\\AppData\\Roaming\\nltk_data...\n",
      "[nltk_data]   Package omw-1.4 is already up-to-date!\n"
     ]
    },
    {
     "name": "stdout",
     "output_type": "stream",
     "text": [
      "Metrics (ROUGE, BLEU(Sacre), METEOR, BERTScore) loaded via evaluate.\n",
      "Evaluation DataLoader contains 22 batches.\n",
      "Starting evaluation loop...\n"
     ]
    },
    {
     "name": "stderr",
     "output_type": "stream",
     "text": [
      "Evaluating:   5%|▍         | 1/22 [00:01<00:37,  1.80s/it]"
     ]
    },
    {
     "name": "stdout",
     "output_type": "stream",
     "text": [
      "\n",
      "--- Sample Outputs (Batch 1) ---\n",
      "\n",
      "[Sample 1]\n",
      "  Reference : the author hates the design of this convention center, it makes him dizzy.\n",
      "  Generated : the author hates the design of the convention center since it's cluttered.\n",
      "\n",
      "[Sample 2]\n",
      "  Reference : the author hates working late from home.\n",
      "  Generated : the author hates working late from home.\n",
      "\n",
      "[Sample 3]\n",
      "  Reference : your anxiety is not cured when someone says \"don't be anxious\".\n",
      "  Generated : the author is not a miracle worker since he said not to be anxious.\n",
      "\n",
      "[Sample 4]\n",
      "  Reference : the author is pissed to watch a full train leave station with half of them still on platform.\n",
      "  Generated : the author is sad for having to watch a full train leave station with half of us still\n",
      "\n",
      "[Sample 5]\n",
      "  Reference : the author doesn't find such notifications from linkedin to be useful.\n",
      "  Generated : the author didn't really linkedin, it's a self explanatory notification.\n",
      "------------------------------\n"
     ]
    },
    {
     "name": "stderr",
     "output_type": "stream",
     "text": [
      "                                                           \r"
     ]
    },
    {
     "name": "stdout",
     "output_type": "stream",
     "text": [
      "\n",
      "Calculating final metrics...\n",
      "Computing ROUGE...\n",
      "Computing BLEU (Sacre)...\n",
      "Computing METEOR...\n",
      "Computing BERTScore...\n"
     ]
    },
    {
     "name": "stderr",
     "output_type": "stream",
     "text": [
      "Some weights of RobertaModel were not initialized from the model checkpoint at roberta-large and are newly initialized: ['roberta.pooler.dense.bias', 'roberta.pooler.dense.weight']\n",
      "You should probably TRAIN this model on a down-stream task to be able to use it for predictions and inference.\n"
     ]
    },
    {
     "name": "stdout",
     "output_type": "stream",
     "text": [
      "\n",
      "Evaluation Metrics Calculated:\n",
      "\n",
      "Final Test Metrics:\n",
      "  rouge1: 0.5112\n",
      "  rouge2: 0.3298\n",
      "  rougeL: 0.4731\n",
      "  bleu: 0.2886\n",
      "  bleu-1: 0.6066\n",
      "  bleu-2: 0.4000\n",
      "  bleu-3: 0.3015\n",
      "  bleu-4: 0.2399\n",
      "  meteor: 0.4849\n",
      "  bertscore_precision: 0.9211\n",
      "  bertscore_recall: 0.9109\n",
      "  bertscore_f1: 0.9158\n"
     ]
    }
   ],
   "source": [
    "BASE_DATA_PATH = './'\n",
    "TEST_TSV = os.path.join(BASE_DATA_PATH, 'test_df.tsv')\n",
    "TEST_OBJECTS_PKL = os.path.join(BASE_DATA_PATH, 'O_test.pkl')\n",
    "TEST_DESCRIPTIONS_PKL = os.path.join(BASE_DATA_PATH, 'D_test.pkl')\n",
    "IMAGE_DIR = os.path.join(BASE_DATA_PATH, 'images/')\n",
    "\n",
    "CHECKPOINT_TO_LOAD_DIR = './epoch_8'\n",
    "\n",
    "BART_MODEL_NAME = \"facebook/bart-base\"\n",
    "VIT_MODEL_NAME = \"google/vit-base-patch16-224-in21k\"\n",
    "\n",
    "VIT_SEQ_LEN = 197\n",
    "TEXT_SEQ_LEN = 256\n",
    "EXP_MAX_LEN = 64\n",
    "\n",
    "BATCH_SIZE = 16\n",
    "\n",
    "if not CHECKPOINT_TO_LOAD_DIR or not os.path.isdir(CHECKPOINT_TO_LOAD_DIR):\n",
    "    print(f\"Error: Specified checkpoint directory not found or not set: {CHECKPOINT_TO_LOAD_DIR}\")\n",
    "    exit()\n",
    "\n",
    "model_path = os.path.join(CHECKPOINT_TO_LOAD_DIR, \"model.pkl\")\n",
    "tokenizer_path = CHECKPOINT_TO_LOAD_DIR\n",
    "\n",
    "if not os.path.exists(model_path) or not os.path.exists(os.path.join(tokenizer_path, \"tokenizer_config.json\")):\n",
    "    print(f\"Error: Specified checkpoint directory {CHECKPOINT_TO_LOAD_DIR} is incomplete (missing model or tokenizer files).\")\n",
    "    exit()\n",
    "\n",
    "try:\n",
    "    bart_tokenizer = BartTokenizer.from_pretrained(tokenizer_path)\n",
    "except Exception as e:\n",
    "    print(f\"Error loading tokenizer: {e}\")\n",
    "    exit()\n",
    "\n",
    "try:\n",
    "    model = torch.load(model_path, map_location=DEVICE, weights_only=False)\n",
    "    model.to(DEVICE)\n",
    "    model.eval()\n",
    "    print(\"Model loaded successfully.\")\n",
    "except Exception as e:\n",
    "    print(f\"Error loading model state dict: {e}\")\n",
    "    exit()\n",
    "\n",
    "vit_processor = ViTImageProcessor.from_pretrained(VIT_MODEL_NAME)\n",
    "vit_feature_extractor_collator = FeatureExtractorViT(VIT_MODEL_NAME).to(DEVICE)\n",
    "vit_feature_extractor_collator.eval()\n",
    "\n",
    "try:\n",
    "    test_dataset = MuSEDataset(\n",
    "        tsv_path=TEST_TSV,\n",
    "        objects_pkl_path=TEST_OBJECTS_PKL,\n",
    "        descriptions_pkl_path=TEST_DESCRIPTIONS_PKL,\n",
    "        image_dir=IMAGE_DIR\n",
    "    )\n",
    "except FileNotFoundError as e:\n",
    "    print(f\"Error loading test dataset files: {e}\")\n",
    "    exit()\n",
    "\n",
    "data_collator = MuseDataCollator(\n",
    "    bart_tokenizer=bart_tokenizer,\n",
    "    vit_processor=vit_processor,\n",
    "    vit_model=vit_feature_extractor_collator.vit_model,\n",
    "    text_max_len=TEXT_SEQ_LEN,\n",
    "    explanation_max_len=EXP_MAX_LEN\n",
    ")\n",
    "\n",
    "test_dataloader = DataLoader(\n",
    "    test_dataset,\n",
    "    batch_size=BATCH_SIZE,\n",
    "    collate_fn=data_collator,\n",
    "    shuffle=False,\n",
    "    num_workers=0,\n",
    "    pin_memory=True if DEVICE == 'cuda' else False\n",
    ")\n",
    "\n",
    "test_metrics = evaluate_model(\n",
    "    model=model,\n",
    "    data_loader=test_dataloader,\n",
    "    tokenizer=bart_tokenizer,\n",
    "    max_gen_length=EXP_MAX_LEN,\n",
    "    num_samples_to_print = 5\n",
    ")\n",
    "\n",
    "if test_metrics:\n",
    "    print(\"\\nFinal Test Metrics:\")\n",
    "    for metric, score in test_metrics.items():\n",
    "        if isinstance(score, dict):\n",
    "            print(f\"  {metric}:\")\n",
    "            for sub_metric, sub_score in score.items():\n",
    "                print(f\"    {sub_metric}: {sub_score:.4f}\" if isinstance(sub_score, (int, float)) else f\"    {sub_metric}: {sub_score}\")\n",
    "        else:\n",
    "            print(f\"  {metric}: {score:.4f}\" if isinstance(score, (int, float)) else f\"  {metric}: {score}\")\n",
    "else:\n",
    "    print(\"Test evaluation failed or returned no metrics.\")\n"
   ]
  }
 ],
 "metadata": {
  "kaggle": {
   "accelerator": "gpu",
   "dataSources": [
    {
     "datasetId": 7093592,
     "sourceId": 11338941,
     "sourceType": "datasetVersion"
    }
   ],
   "dockerImageVersionId": 30919,
   "isGpuEnabled": true,
   "isInternetEnabled": true,
   "language": "python",
   "sourceType": "notebook"
  },
  "kernelspec": {
   "display_name": "Python 3",
   "language": "python",
   "name": "python3"
  },
  "language_info": {
   "codemirror_mode": {
    "name": "ipython",
    "version": 3
   },
   "file_extension": ".py",
   "mimetype": "text/x-python",
   "name": "python",
   "nbconvert_exporter": "python",
   "pygments_lexer": "ipython3",
   "version": "3.10.11"
  }
 },
 "nbformat": 4,
 "nbformat_minor": 4
}
