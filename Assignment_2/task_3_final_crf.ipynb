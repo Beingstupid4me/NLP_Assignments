{
 "cells": [
  {
   "cell_type": "code",
   "execution_count": 1,
   "metadata": {},
   "outputs": [
    {
     "name": "stdout",
     "output_type": "stream",
     "text": [
      "Requirement already satisfied: numpy in c:\\users\\amart\\appdata\\local\\packages\\pythonsoftwarefoundation.python.3.10_qbz5n2kfra8p0\\localcache\\local-packages\\python310\\site-packages (1.26.4)\n",
      "Requirement already satisfied: torch in c:\\users\\amart\\appdata\\local\\packages\\pythonsoftwarefoundation.python.3.10_qbz5n2kfra8p0\\localcache\\local-packages\\python310\\site-packages (2.6.0+cu118)\n",
      "Requirement already satisfied: matplotlib in c:\\users\\amart\\appdata\\local\\packages\\pythonsoftwarefoundation.python.3.10_qbz5n2kfra8p0\\localcache\\local-packages\\python310\\site-packages (3.10.0)\n",
      "Requirement already satisfied: datasets in c:\\users\\amart\\appdata\\local\\packages\\pythonsoftwarefoundation.python.3.10_qbz5n2kfra8p0\\localcache\\local-packages\\python310\\site-packages (3.3.2)\n",
      "Requirement already satisfied: tqdm in c:\\users\\amart\\appdata\\local\\packages\\pythonsoftwarefoundation.python.3.10_qbz5n2kfra8p0\\localcache\\local-packages\\python310\\site-packages (4.67.1)\n",
      "Requirement already satisfied: TorchCRF in c:\\users\\amart\\appdata\\local\\packages\\pythonsoftwarefoundation.python.3.10_qbz5n2kfra8p0\\localcache\\local-packages\\python310\\site-packages (1.1.0)\n",
      "Requirement already satisfied: filelock in c:\\users\\amart\\appdata\\local\\packages\\pythonsoftwarefoundation.python.3.10_qbz5n2kfra8p0\\localcache\\local-packages\\python310\\site-packages (from torch) (3.17.0)\n",
      "Requirement already satisfied: typing-extensions>=4.10.0 in c:\\users\\amart\\appdata\\local\\packages\\pythonsoftwarefoundation.python.3.10_qbz5n2kfra8p0\\localcache\\local-packages\\python310\\site-packages (from torch) (4.12.2)\n",
      "Requirement already satisfied: networkx in c:\\users\\amart\\appdata\\local\\packages\\pythonsoftwarefoundation.python.3.10_qbz5n2kfra8p0\\localcache\\local-packages\\python310\\site-packages (from torch) (3.4.2)\n",
      "Requirement already satisfied: jinja2 in c:\\users\\amart\\appdata\\local\\packages\\pythonsoftwarefoundation.python.3.10_qbz5n2kfra8p0\\localcache\\local-packages\\python310\\site-packages (from torch) (3.1.5)\n",
      "Requirement already satisfied: fsspec in c:\\users\\amart\\appdata\\local\\packages\\pythonsoftwarefoundation.python.3.10_qbz5n2kfra8p0\\localcache\\local-packages\\python310\\site-packages (from torch) (2024.12.0)\n",
      "Requirement already satisfied: sympy==1.13.1 in c:\\users\\amart\\appdata\\local\\packages\\pythonsoftwarefoundation.python.3.10_qbz5n2kfra8p0\\localcache\\local-packages\\python310\\site-packages (from torch) (1.13.1)\n",
      "Requirement already satisfied: mpmath<1.4,>=1.1.0 in c:\\users\\amart\\appdata\\local\\packages\\pythonsoftwarefoundation.python.3.10_qbz5n2kfra8p0\\localcache\\local-packages\\python310\\site-packages (from sympy==1.13.1->torch) (1.3.0)\n",
      "Requirement already satisfied: contourpy>=1.0.1 in c:\\users\\amart\\appdata\\local\\packages\\pythonsoftwarefoundation.python.3.10_qbz5n2kfra8p0\\localcache\\local-packages\\python310\\site-packages (from matplotlib) (1.3.1)\n",
      "Requirement already satisfied: cycler>=0.10 in c:\\users\\amart\\appdata\\local\\packages\\pythonsoftwarefoundation.python.3.10_qbz5n2kfra8p0\\localcache\\local-packages\\python310\\site-packages (from matplotlib) (0.12.1)\n",
      "Requirement already satisfied: fonttools>=4.22.0 in c:\\users\\amart\\appdata\\local\\packages\\pythonsoftwarefoundation.python.3.10_qbz5n2kfra8p0\\localcache\\local-packages\\python310\\site-packages (from matplotlib) (4.55.8)\n",
      "Requirement already satisfied: kiwisolver>=1.3.1 in c:\\users\\amart\\appdata\\local\\packages\\pythonsoftwarefoundation.python.3.10_qbz5n2kfra8p0\\localcache\\local-packages\\python310\\site-packages (from matplotlib) (1.4.8)\n",
      "Requirement already satisfied: packaging>=20.0 in c:\\users\\amart\\appdata\\local\\packages\\pythonsoftwarefoundation.python.3.10_qbz5n2kfra8p0\\localcache\\local-packages\\python310\\site-packages (from matplotlib) (24.2)\n",
      "Requirement already satisfied: pillow>=8 in c:\\users\\amart\\appdata\\local\\packages\\pythonsoftwarefoundation.python.3.10_qbz5n2kfra8p0\\localcache\\local-packages\\python310\\site-packages (from matplotlib) (11.1.0)\n",
      "Requirement already satisfied: pyparsing>=2.3.1 in c:\\users\\amart\\appdata\\local\\packages\\pythonsoftwarefoundation.python.3.10_qbz5n2kfra8p0\\localcache\\local-packages\\python310\\site-packages (from matplotlib) (3.2.1)\n",
      "Requirement already satisfied: python-dateutil>=2.7 in c:\\users\\amart\\appdata\\local\\packages\\pythonsoftwarefoundation.python.3.10_qbz5n2kfra8p0\\localcache\\local-packages\\python310\\site-packages (from matplotlib) (2.9.0.post0)\n",
      "Requirement already satisfied: pyarrow>=15.0.0 in c:\\users\\amart\\appdata\\local\\packages\\pythonsoftwarefoundation.python.3.10_qbz5n2kfra8p0\\localcache\\local-packages\\python310\\site-packages (from datasets) (19.0.1)\n",
      "Requirement already satisfied: dill<0.3.9,>=0.3.0 in c:\\users\\amart\\appdata\\local\\packages\\pythonsoftwarefoundation.python.3.10_qbz5n2kfra8p0\\localcache\\local-packages\\python310\\site-packages (from datasets) (0.3.8)\n",
      "Requirement already satisfied: pandas in c:\\users\\amart\\appdata\\local\\packages\\pythonsoftwarefoundation.python.3.10_qbz5n2kfra8p0\\localcache\\local-packages\\python310\\site-packages (from datasets) (2.2.3)\n",
      "Requirement already satisfied: requests>=2.32.2 in c:\\users\\amart\\appdata\\local\\packages\\pythonsoftwarefoundation.python.3.10_qbz5n2kfra8p0\\localcache\\local-packages\\python310\\site-packages (from datasets) (2.32.3)\n",
      "Requirement already satisfied: xxhash in c:\\users\\amart\\appdata\\local\\packages\\pythonsoftwarefoundation.python.3.10_qbz5n2kfra8p0\\localcache\\local-packages\\python310\\site-packages (from datasets) (3.5.0)\n",
      "Requirement already satisfied: multiprocess<0.70.17 in c:\\users\\amart\\appdata\\local\\packages\\pythonsoftwarefoundation.python.3.10_qbz5n2kfra8p0\\localcache\\local-packages\\python310\\site-packages (from datasets) (0.70.16)\n",
      "Requirement already satisfied: aiohttp in c:\\users\\amart\\appdata\\local\\packages\\pythonsoftwarefoundation.python.3.10_qbz5n2kfra8p0\\localcache\\local-packages\\python310\\site-packages (from datasets) (3.11.13)\n",
      "Requirement already satisfied: huggingface-hub>=0.24.0 in c:\\users\\amart\\appdata\\local\\packages\\pythonsoftwarefoundation.python.3.10_qbz5n2kfra8p0\\localcache\\local-packages\\python310\\site-packages (from datasets) (0.28.1)\n",
      "Requirement already satisfied: pyyaml>=5.1 in c:\\users\\amart\\appdata\\local\\packages\\pythonsoftwarefoundation.python.3.10_qbz5n2kfra8p0\\localcache\\local-packages\\python310\\site-packages (from datasets) (6.0.2)\n",
      "Requirement already satisfied: colorama in c:\\users\\amart\\appdata\\local\\packages\\pythonsoftwarefoundation.python.3.10_qbz5n2kfra8p0\\localcache\\local-packages\\python310\\site-packages (from tqdm) (0.4.6)\n",
      "Requirement already satisfied: aiohappyeyeballs>=2.3.0 in c:\\users\\amart\\appdata\\local\\packages\\pythonsoftwarefoundation.python.3.10_qbz5n2kfra8p0\\localcache\\local-packages\\python310\\site-packages (from aiohttp->datasets) (2.6.1)\n",
      "Requirement already satisfied: aiosignal>=1.1.2 in c:\\users\\amart\\appdata\\local\\packages\\pythonsoftwarefoundation.python.3.10_qbz5n2kfra8p0\\localcache\\local-packages\\python310\\site-packages (from aiohttp->datasets) (1.3.2)\n",
      "Requirement already satisfied: async-timeout<6.0,>=4.0 in c:\\users\\amart\\appdata\\local\\packages\\pythonsoftwarefoundation.python.3.10_qbz5n2kfra8p0\\localcache\\local-packages\\python310\\site-packages (from aiohttp->datasets) (5.0.1)\n",
      "Requirement already satisfied: attrs>=17.3.0 in c:\\users\\amart\\appdata\\local\\packages\\pythonsoftwarefoundation.python.3.10_qbz5n2kfra8p0\\localcache\\local-packages\\python310\\site-packages (from aiohttp->datasets) (25.1.0)\n",
      "Requirement already satisfied: frozenlist>=1.1.1 in c:\\users\\amart\\appdata\\local\\packages\\pythonsoftwarefoundation.python.3.10_qbz5n2kfra8p0\\localcache\\local-packages\\python310\\site-packages (from aiohttp->datasets) (1.5.0)\n",
      "Requirement already satisfied: multidict<7.0,>=4.5 in c:\\users\\amart\\appdata\\local\\packages\\pythonsoftwarefoundation.python.3.10_qbz5n2kfra8p0\\localcache\\local-packages\\python310\\site-packages (from aiohttp->datasets) (6.1.0)\n",
      "Requirement already satisfied: propcache>=0.2.0 in c:\\users\\amart\\appdata\\local\\packages\\pythonsoftwarefoundation.python.3.10_qbz5n2kfra8p0\\localcache\\local-packages\\python310\\site-packages (from aiohttp->datasets) (0.3.0)\n",
      "Requirement already satisfied: yarl<2.0,>=1.17.0 in c:\\users\\amart\\appdata\\local\\packages\\pythonsoftwarefoundation.python.3.10_qbz5n2kfra8p0\\localcache\\local-packages\\python310\\site-packages (from aiohttp->datasets) (1.18.3)\n",
      "Requirement already satisfied: six>=1.5 in c:\\users\\amart\\appdata\\local\\packages\\pythonsoftwarefoundation.python.3.10_qbz5n2kfra8p0\\localcache\\local-packages\\python310\\site-packages (from python-dateutil>=2.7->matplotlib) (1.17.0)\n",
      "Requirement already satisfied: charset-normalizer<4,>=2 in c:\\users\\amart\\appdata\\local\\packages\\pythonsoftwarefoundation.python.3.10_qbz5n2kfra8p0\\localcache\\local-packages\\python310\\site-packages (from requests>=2.32.2->datasets) (3.4.1)\n",
      "Requirement already satisfied: idna<4,>=2.5 in c:\\users\\amart\\appdata\\local\\packages\\pythonsoftwarefoundation.python.3.10_qbz5n2kfra8p0\\localcache\\local-packages\\python310\\site-packages (from requests>=2.32.2->datasets) (3.10)\n",
      "Requirement already satisfied: urllib3<3,>=1.21.1 in c:\\users\\amart\\appdata\\local\\packages\\pythonsoftwarefoundation.python.3.10_qbz5n2kfra8p0\\localcache\\local-packages\\python310\\site-packages (from requests>=2.32.2->datasets) (2.3.0)\n",
      "Requirement already satisfied: certifi>=2017.4.17 in c:\\users\\amart\\appdata\\local\\packages\\pythonsoftwarefoundation.python.3.10_qbz5n2kfra8p0\\localcache\\local-packages\\python310\\site-packages (from requests>=2.32.2->datasets) (2025.1.31)\n",
      "Requirement already satisfied: MarkupSafe>=2.0 in c:\\users\\amart\\appdata\\local\\packages\\pythonsoftwarefoundation.python.3.10_qbz5n2kfra8p0\\localcache\\local-packages\\python310\\site-packages (from jinja2->torch) (3.0.2)\n",
      "Requirement already satisfied: pytz>=2020.1 in c:\\users\\amart\\appdata\\local\\packages\\pythonsoftwarefoundation.python.3.10_qbz5n2kfra8p0\\localcache\\local-packages\\python310\\site-packages (from pandas->datasets) (2025.1)\n",
      "Requirement already satisfied: tzdata>=2022.7 in c:\\users\\amart\\appdata\\local\\packages\\pythonsoftwarefoundation.python.3.10_qbz5n2kfra8p0\\localcache\\local-packages\\python310\\site-packages (from pandas->datasets) (2025.1)\n",
      "Note: you may need to restart the kernel to use updated packages.\n"
     ]
    },
    {
     "name": "stderr",
     "output_type": "stream",
     "text": [
      "\n",
      "[notice] A new release of pip is available: 25.0 -> 25.0.1\n",
      "[notice] To update, run: C:\\Users\\amart\\AppData\\Local\\Microsoft\\WindowsApps\\PythonSoftwareFoundation.Python.3.10_qbz5n2kfra8p0\\python.exe -m pip install --upgrade pip\n"
     ]
    }
   ],
   "source": [
    "%pip install numpy torch matplotlib datasets tqdm TorchCRF"
   ]
  },
  {
   "cell_type": "code",
   "execution_count": null,
   "metadata": {},
   "outputs": [
    {
     "name": "stderr",
     "output_type": "stream",
     "text": [
      "C:\\Users\\amart\\AppData\\Local\\Packages\\PythonSoftwareFoundation.Python.3.10_qbz5n2kfra8p0\\LocalCache\\local-packages\\Python310\\site-packages\\tqdm\\auto.py:21: TqdmWarning: IProgress not found. Please update jupyter and ipywidgets. See https://ipywidgets.readthedocs.io/en/stable/user_install.html\n",
      "  from .autonotebook import tqdm as notebook_tqdm\n"
     ]
    },
    {
     "name": "stdout",
     "output_type": "stream",
     "text": [
      "Using device: cuda:0\n",
      "CUDA available? True\n",
      "CUDA device name: NVIDIA GeForce RTX 4060 Laptop GPU\n",
      "EM test: 50.0\n"
     ]
    }
   ],
   "source": [
    "import os\n",
    "import random\n",
    "import numpy as np\n",
    "import torch\n",
    "import torch.nn as nn\n",
    "import torch.nn.functional as F\n",
    "from torch.utils.data import DataLoader\n",
    "import matplotlib.pyplot as plt\n",
    "from tqdm import tqdm\n",
    "\n",
    "from transformers import AutoTokenizer, AutoModel, AdamW, get_linear_schedule_with_warmup\n",
    "from datasets import load_dataset\n",
    "\n",
    "# Try to import CRF; if not installed, please install via: pip install torchcrf\n",
    "try:\n",
    "    from TorchCRF import CRF\n",
    "except ImportError:\n",
    "    raise ImportError(\"Please install torchcrf using 'pip install torchcrf'.\")\n",
    "\n",
    "# Set random seed for reproducibility\n",
    "seed = 42\n",
    "random.seed(seed)\n",
    "np.random.seed(seed)\n",
    "torch.manual_seed(seed)\n",
    "\n",
    "import torch\n",
    "\n",
    "# Using gpu for training if available\n",
    "device = torch.device(\"cuda:0\" if torch.cuda.is_available() else \"cpu\")\n",
    "print(\"Using device:\", device)\n",
    "\n",
    "print(\"CUDA available?\", torch.cuda.is_available())\n",
    "if device.type == \"cuda\":\n",
    "    print(\"CUDA device name:\", torch.cuda.get_device_name(0))\n",
    "\n",
    "\n",
    "model_name = \"SpanBERT/spanbert-base-cased\"\n",
    "tokenizer = AutoTokenizer.from_pretrained(model_name, use_fast=True)\n",
    "\n",
    "# Part 2: Evaluation Metric Function\n",
    "def exact_match_score(predictions, references):\n",
    "    \"\"\"\n",
    "    Computes the Exact Match (EM) percentage between predictions and ground truth. Given in the task sheet and told to use.\n",
    "    \"\"\"\n",
    "    assert len(predictions) == len(references), \"Lists must have the same length\"\n",
    "    matches = sum(p == r for p, r in zip(predictions, references))\n",
    "    return matches / len(references) * 100  # Convert to percentage\n",
    "\n",
    "# Quick test:\n",
    "print(\"EM test:\", exact_match_score([\"answer\", \"test\"], [\"answer\", \"wrong\"]))\n"
   ]
  },
  {
   "cell_type": "code",
   "execution_count": null,
   "metadata": {},
   "outputs": [],
   "source": [
    "# Part 3: Preprocessing Functions\n",
    "# Global hyperparameters for tokenization\n",
    "max_length = 384\n",
    "doc_stride = 128\n",
    "\n",
    "def preprocess_baseline(examples):\n",
    "    \"\"\"\n",
    "    Tokenize examples for the baseline QA model. Using sliding window approach to handle the data.\n",
    "    For each example, computes:\n",
    "      - input_ids, attention_mask, token_type_ids\n",
    "      - start_positions and end_positions (using first answer if available)\n",
    "      - offset_mapping, context, and answers (replicated for each overflow feature)\n",
    "    \"\"\"\n",
    "    outputs = tokenizer(\n",
    "        examples[\"question\"],\n",
    "        examples[\"context\"],\n",
    "        truncation=\"only_second\",\n",
    "        max_length=max_length,\n",
    "        stride=doc_stride,\n",
    "        return_overflowing_tokens=True,\n",
    "        return_offsets_mapping=True,\n",
    "        padding=\"max_length\",\n",
    "    )\n",
    "    \n",
    "    start_positions = []\n",
    "    end_positions = []\n",
    "    new_offset_mapping = []\n",
    "    new_context = []\n",
    "    new_answers = []\n",
    "    \n",
    "    for i, offset in enumerate(outputs[\"offset_mapping\"]):\n",
    "        sample_index = outputs[\"overflow_to_sample_mapping\"][i]\n",
    "        context = examples[\"context\"][sample_index]\n",
    "        new_context.append(context)\n",
    "        new_answers.append(examples[\"answers\"][sample_index])\n",
    "        \n",
    "        answers = examples[\"answers\"][sample_index]\n",
    "        if len(answers[\"answer_start\"]) == 0:\n",
    "            start_positions.append(0)\n",
    "            end_positions.append(0)\n",
    "        else:\n",
    "            answer_start = answers[\"answer_start\"][0]\n",
    "            answer_text = answers[\"text\"][0]\n",
    "            answer_end = answer_start + len(answer_text)\n",
    "            token_start_index, token_end_index = None, None\n",
    "            for idx, (s, e) in enumerate(offset):\n",
    "                if s <= answer_start < e:\n",
    "                    token_start_index = idx\n",
    "                if s < answer_end <= e:\n",
    "                    token_end_index = idx\n",
    "                    break\n",
    "            if token_start_index is None or token_end_index is None:\n",
    "                start_positions.append(0)\n",
    "                end_positions.append(0)\n",
    "            else:\n",
    "                start_positions.append(token_start_index)\n",
    "                end_positions.append(token_end_index)\n",
    "        new_offset_mapping.append(offset)\n",
    "    \n",
    "    outputs[\"start_positions\"] = start_positions\n",
    "    outputs[\"end_positions\"] = end_positions\n",
    "    outputs[\"context\"] = new_context\n",
    "    outputs[\"offset_mapping\"] = new_offset_mapping\n",
    "    outputs[\"answers\"] = new_answers\n",
    "    return outputs\n",
    "\n",
    "def preprocess_crf(examples):\n",
    "    \"\"\"\n",
    "    Tokenize examples for the CRF model, same thing as above but a bit changed for the CRF model, the binary label to be specific.\n",
    "    For each example, creates:\n",
    "      - input_ids, attention_mask, token_type_ids, offset_mapping, and context\n",
    "      - crf_labels: binary labels for each token (1 if token is inside the answer span, 0 otherwise)\n",
    "      - answers: replicated from the original sample for later evaluation.\n",
    "    \"\"\"\n",
    "    outputs = tokenizer(\n",
    "        examples[\"question\"],\n",
    "        examples[\"context\"],\n",
    "        truncation=\"only_second\",\n",
    "        max_length=max_length,\n",
    "        stride=doc_stride,\n",
    "        return_overflowing_tokens=True,\n",
    "        return_offsets_mapping=True,\n",
    "        padding=\"max_length\",\n",
    "    )\n",
    "    \n",
    "    crf_labels = []\n",
    "    new_offset_mapping = []\n",
    "    new_context = []\n",
    "    new_answers = []\n",
    "    \n",
    "    for i, offset in enumerate(outputs[\"offset_mapping\"]):\n",
    "        sample_index = outputs[\"overflow_to_sample_mapping\"][i]\n",
    "        context = examples[\"context\"][sample_index]\n",
    "        new_context.append(context)\n",
    "        new_answers.append(examples[\"answers\"][sample_index])\n",
    "        \n",
    "        answers = examples[\"answers\"][sample_index]\n",
    "        labels = [0] * len(offset)\n",
    "        if len(answers[\"answer_start\"]) > 0:\n",
    "            answer_start = answers[\"answer_start\"][0]\n",
    "            answer_text = answers[\"text\"][0]\n",
    "            answer_end = answer_start + len(answer_text)\n",
    "            for idx, (s, e) in enumerate(offset):\n",
    "                if s == 0 and e == 0:\n",
    "                    continue\n",
    "                if s >= answer_start and e <= answer_end:\n",
    "                    labels[idx] = 1\n",
    "        crf_labels.append(labels)\n",
    "        new_offset_mapping.append(offset)\n",
    "    \n",
    "    outputs[\"crf_labels\"] = crf_labels\n",
    "    outputs[\"context\"] = new_context\n",
    "    outputs[\"offset_mapping\"] = new_offset_mapping\n",
    "    outputs[\"answers\"] = new_answers\n",
    "    return outputs"
   ]
  },
  {
   "cell_type": "code",
   "execution_count": null,
   "metadata": {},
   "outputs": [],
   "source": [
    "# Part 4: Model Definition for the SpanBERT without the crf one\n",
    "class SpanBERTForQA(nn.Module):\n",
    "    \"\"\"\n",
    "    Standard SpanBERT-based Question Answering model:\n",
    "      - Uses a pretrained SpanBERT encoder.\n",
    "      - Predicts start and end logits using a linear layer.\n",
    "    \"\"\"\n",
    "    def __init__(self, model_name):\n",
    "        super(SpanBERTForQA, self).__init__()\n",
    "        self.bert = AutoModel.from_pretrained(model_name)\n",
    "        self.qa_outputs = nn.Linear(self.bert.config.hidden_size, 2)\n",
    "\n",
    "    def forward(self, input_ids, attention_mask, token_type_ids, start_positions=None, end_positions=None):\n",
    "        outputs = self.bert(input_ids=input_ids, attention_mask=attention_mask, token_type_ids=token_type_ids)\n",
    "        sequence_output = outputs.last_hidden_state  # shape: (batch, seq_len, hidden_size)\n",
    "        logits = self.qa_outputs(sequence_output)      # shape: (batch, seq_len, 2)\n",
    "        start_logits, end_logits = logits.split(1, dim=-1)\n",
    "        start_logits = start_logits.squeeze(-1)         # shape: (batch, seq_len)\n",
    "        end_logits = end_logits.squeeze(-1)\n",
    "        loss = None\n",
    "        if start_positions is not None and end_positions is not None:\n",
    "            loss_fct = nn.CrossEntropyLoss()\n",
    "            start_loss = loss_fct(start_logits, start_positions)\n",
    "            end_loss = loss_fct(end_logits, end_positions)\n",
    "            loss = (start_loss + end_loss) / 2\n",
    "        return loss, start_logits, end_logits\n"
   ]
  },
  {
   "cell_type": "code",
   "execution_count": null,
   "metadata": {},
   "outputs": [],
   "source": [
    "# Part 5: Answer Reconstruction Functions to reconstruct the answer from the model output, (from index to text)\n",
    "def reconstruct_answer(example):\n",
    "    \"\"\"\n",
    "    Reconstructs the predicted answer string for the baseline model using offset mapping.\n",
    "    Expects:\n",
    "      - \"offset_mapping\": list of (start, end) for each token.\n",
    "      - \"context\": the original context string.\n",
    "      - \"pred_start\" and \"pred_end\": predicted token indices.\n",
    "    \"\"\"\n",
    "    offset = example[\"offset_mapping\"]\n",
    "    context = example[\"context\"]\n",
    "    if example[\"pred_start\"] > example[\"pred_end\"]:\n",
    "        return \"\"\n",
    "    start_char = offset[example[\"pred_start\"]][0]\n",
    "    end_char = offset[example[\"pred_end\"]][1]\n",
    "    return context[start_char:end_char]\n",
    "\n",
    "def reconstruct_answer_crf(example, prediction_labels):\n",
    "    \"\"\"\n",
    "    Reconstructs the answer text for the CRF model using predicted labels and offset mapping.\n",
    "    Takes the contiguous span between the first and last token labeled as 1.\n",
    "    \"\"\"\n",
    "    offset = example[\"offset_mapping\"]\n",
    "    context = example[\"context\"]\n",
    "    indices = [i for i, label in enumerate(prediction_labels) if label == 1]\n",
    "    if not indices:\n",
    "        return \"\"\n",
    "    start_idx = indices[0]\n",
    "    end_idx = indices[-1]\n",
    "    start_char = offset[start_idx][0]\n",
    "    end_char = offset[end_idx][1]\n",
    "    return context[start_char:end_char]\n"
   ]
  },
  {
   "cell_type": "code",
   "execution_count": null,
   "metadata": {},
   "outputs": [],
   "source": [
    "# Part 6: Training and Evaluation Functions\n",
    "# We add gradient clipping to improve stability (clip_norm = 1.0)\n",
    "def train_baseline(model, dataloader, optimizer, device, clip_norm=1.0):\n",
    "    model.train()\n",
    "    total_loss = 0\n",
    "    for batch in tqdm(dataloader, desc=\"Training Baseline\"):\n",
    "        # Move inputs to GPU\n",
    "        input_ids = batch[\"input_ids\"].to(device, non_blocking=True)\n",
    "        attention_mask = batch[\"attention_mask\"].to(device, non_blocking=True)\n",
    "        token_type_ids = batch[\"token_type_ids\"].to(device, non_blocking=True)\n",
    "        start_positions = batch[\"start_positions\"].to(device, non_blocking=True)\n",
    "        end_positions = batch[\"end_positions\"].to(device, non_blocking=True)\n",
    "        \n",
    "        optimizer.zero_grad()\n",
    "        loss, _, _ = model(\n",
    "            input_ids, attention_mask, token_type_ids,\n",
    "            start_positions, end_positions\n",
    "        )\n",
    "        loss.backward()\n",
    "        torch.nn.utils.clip_grad_norm_(model.parameters(), clip_norm)\n",
    "        optimizer.step()\n",
    "        total_loss += loss.item()\n",
    "    return total_loss / len(dataloader)\n",
    "\n",
    "\n",
    "def evaluate_baseline(model, dataloader, device):\n",
    "    model.eval()\n",
    "    predictions = []\n",
    "    references = []\n",
    "    with torch.no_grad():\n",
    "        for batch in tqdm(dataloader, desc=\"Evaluating Baseline\"):\n",
    "            input_ids = batch[\"input_ids\"].to(device)\n",
    "            attention_mask = batch[\"attention_mask\"].to(device)\n",
    "            token_type_ids = batch[\"token_type_ids\"].to(device)\n",
    "            contexts = batch[\"context\"]\n",
    "            offset_mappings = batch[\"offset_mapping\"]\n",
    "            _, start_logits, end_logits = model(input_ids, attention_mask, token_type_ids)\n",
    "            start_preds = torch.argmax(start_logits, dim=1).cpu().numpy()\n",
    "            end_preds = torch.argmax(end_logits, dim=1).cpu().numpy()\n",
    "            for i in range(len(start_preds)):\n",
    "                example = {\n",
    "                    \"offset_mapping\": offset_mappings[i],\n",
    "                    \"context\": contexts[i],\n",
    "                    \"pred_start\": int(start_preds[i]),\n",
    "                    \"pred_end\": int(end_preds[i]),\n",
    "                }\n",
    "                pred_answer = reconstruct_answer(example)\n",
    "                predictions.append(pred_answer)\n",
    "                ans = batch[\"answers\"][i][\"text\"][0] if len(batch[\"answers\"][i][\"text\"]) > 0 else \"\"\n",
    "                references.append(ans)\n",
    "    return exact_match_score(predictions, references)\n",
    "\n",
    "def train_crf(model, dataloader, optimizer, device, clip_norm=1.0):\n",
    "    model.train()\n",
    "    total_loss = 0\n",
    "    for batch in tqdm(dataloader, desc=\"Training CRF\"):\n",
    "        optimizer.zero_grad()\n",
    "        input_ids = batch[\"input_ids\"].to(device)\n",
    "        attention_mask = batch[\"attention_mask\"].to(device)\n",
    "        token_type_ids = batch[\"token_type_ids\"].to(device)\n",
    "        crf_labels = batch[\"crf_labels\"].to(device)\n",
    "        loss, _ = model(input_ids, attention_mask, token_type_ids, crf_labels)\n",
    "        loss=loss.mean()\n",
    "        loss.backward()\n",
    "        torch.nn.utils.clip_grad_norm_(model.parameters(), clip_norm)\n",
    "        optimizer.step()\n",
    "        total_loss += loss.item()\n",
    "    return total_loss / len(dataloader)\n",
    "\n",
    "def evaluate_crf(model, dataloader, device):\n",
    "    model.eval()\n",
    "    predictions = []\n",
    "    references = []\n",
    "    with torch.no_grad():\n",
    "        for batch in tqdm(dataloader, desc=\"Evaluating CRF\"):\n",
    "            input_ids = batch[\"input_ids\"].to(device)\n",
    "            attention_mask = batch[\"attention_mask\"].to(device)\n",
    "            token_type_ids = batch[\"token_type_ids\"].to(device)\n",
    "            contexts = batch[\"context\"]\n",
    "            offset_mappings = batch[\"offset_mapping\"]\n",
    "            _, pred_labels = model(input_ids, attention_mask, token_type_ids)\n",
    "            for i in range(len(pred_labels)):\n",
    "                example = {\n",
    "                    \"offset_mapping\": offset_mappings[i],\n",
    "                    \"context\": contexts[i],\n",
    "                }\n",
    "                pred_answer = reconstruct_answer_crf(example, pred_labels[i])\n",
    "                predictions.append(pred_answer)\n",
    "                ans = batch[\"answers\"][i][\"text\"][0] if len(batch[\"answers\"][i][\"text\"]) > 0 else \"\"\n",
    "                references.append(ans)\n",
    "    return exact_match_score(predictions, references)"
   ]
  },
  {
   "cell_type": "code",
   "execution_count": null,
   "metadata": {},
   "outputs": [
    {
     "data": {
      "image/png": "[encoded data removed]",
      "text/plain": [
       "<Figure size 640x480 with 1 Axes>"
      ]
     },
     "metadata": {},
     "output_type": "display_data"
    },
    {
     "data": {
      "image/png": "[encoded data removed]",
      "text/plain": [
       "<Figure size 640x480 with 1 Axes>"
      ]
     },
     "metadata": {},
     "output_type": "display_data"
    },
    {
     "data": {
      "text/plain": [
       "<Figure size 640x480 with 0 Axes>"
      ]
     },
     "metadata": {},
     "output_type": "display_data"
    }
   ],
   "source": [
    "# Part 7: Data Loading and some Exploratory Data Analysis (EDA)\n",
    "# Load SQuAD v2 dataset and select subsets:\n",
    "# Training: 50k samples; Validation: 15k samples\n",
    "dataset = load_dataset(\"squad_v2\")\n",
    "train_dataset = dataset[\"train\"].shuffle(seed=seed).select(range(50000))\n",
    "dev_dataset = dataset[\"validation\"].shuffle(seed=seed).select(range(10000))\n",
    "\n",
    "# EDA: Plot distribution of context lengths\n",
    "context_lengths = [len(x.split()) for x in train_dataset[\"context\"]]\n",
    "plt.hist(context_lengths, bins=50)\n",
    "plt.title(\"Distribution of Context Lengths\")\n",
    "plt.xlabel(\"Number of words\")\n",
    "plt.ylabel(\"Frequency\")\n",
    "plt.savefig(\"context_length_distribution.png\")\n",
    "plt.show()\n",
    "plt.clf()\n",
    "\n",
    "# EDA: Plot distribution of question lengths\n",
    "question_lengths = [len(x.split()) for x in train_dataset[\"question\"]]\n",
    "plt.hist(question_lengths, bins=50)\n",
    "plt.title(\"Distribution of Question Lengths\")\n",
    "plt.xlabel(\"Number of words\")\n",
    "plt.ylabel(\"Frequency\")\n",
    "plt.savefig(\"question_length_distribution.png\")\n",
    "plt.show()\n",
    "plt.clf()"
   ]
  },
  {
   "cell_type": "code",
   "execution_count": null,
   "metadata": {},
   "outputs": [
    {
     "name": "stdout",
     "output_type": "stream",
     "text": [
      "Preprocessing data for the baseline model...\n",
      "Preprocessing data for the CRF model...\n"
     ]
    }
   ],
   "source": [
    "# Part 8: Tokenizer Initialization and Data Preprocessing \n",
    "# (Re)initialize the tokenizer (if needed)\n",
    "model_name = \"SpanBERT/spanbert-base-cased\"\n",
    "tokenizer = AutoTokenizer.from_pretrained(model_name, use_fast=True)\n",
    "\n",
    "print(\"Preprocessing data for the baseline model...\")\n",
    "# Remove only the unnecessary columns; keep \"answers\" and \"context\", only is needed \n",
    "remove_cols = [\"question\", \"title\", \"id\"]\n",
    "\n",
    "# Map the preprocessing functions for the baseline model\n",
    "train_baseline_features = train_dataset.map(preprocess_baseline, batched=True, remove_columns=remove_cols)\n",
    "dev_baseline_features = dev_dataset.map(preprocess_baseline, batched=True, remove_columns=remove_cols)\n",
    "\n",
    "# Set the format: convert selected columns to torch tensors, but keep all columns (like \"answers\") in original format.\n",
    "train_baseline_features.set_format(\n",
    "    type=\"torch\",\n",
    "    columns=[\"input_ids\", \"attention_mask\", \"token_type_ids\", \"start_positions\", \"end_positions\", \"offset_mapping\", \"context\"],\n",
    "    output_all_columns=True\n",
    ")\n",
    "dev_baseline_features.set_format(\n",
    "    type=\"torch\",\n",
    "    columns=[\"input_ids\", \"attention_mask\", \"token_type_ids\", \"start_positions\", \"end_positions\", \"offset_mapping\", \"context\"],\n",
    "    output_all_columns=True\n",
    ")\n",
    "\n",
    "print(\"Preprocessing data for the CRF model...\")\n",
    "# Map the preprocessing functions for the CRF model\n",
    "train_crf_features = train_dataset.map(preprocess_crf, batched=True, remove_columns=remove_cols)\n",
    "dev_crf_features = dev_dataset.map(preprocess_crf, batched=True, remove_columns=remove_cols)\n",
    "\n",
    "train_crf_features.set_format(\n",
    "    type=\"torch\",\n",
    "    columns=[\"input_ids\", \"attention_mask\", \"token_type_ids\", \"crf_labels\", \"offset_mapping\", \"context\"],\n",
    "    output_all_columns=True\n",
    ")\n",
    "dev_crf_features.set_format(\n",
    "    type=\"torch\",\n",
    "    columns=[\"input_ids\", \"attention_mask\", \"token_type_ids\", \"crf_labels\", \"offset_mapping\", \"context\"],\n",
    "    output_all_columns=True\n",
    ")\n"
   ]
  },
  {
   "cell_type": "code",
   "execution_count": null,
   "metadata": {},
   "outputs": [
    {
     "name": "stderr",
     "output_type": "stream",
     "text": [
      "Some weights of BertModel were not initialized from the model checkpoint at SpanBERT/spanbert-base-cased and are newly initialized: ['bert.pooler.dense.bias', 'bert.pooler.dense.weight']\n",
      "You should probably TRAIN this model on a down-stream task to be able to use it for predictions and inference.\n",
      "Some weights of BertModel were not initialized from the model checkpoint at SpanBERT/spanbert-base-cased and are newly initialized: ['bert.pooler.dense.bias', 'bert.pooler.dense.weight']\n",
      "You should probably TRAIN this model on a down-stream task to be able to use it for predictions and inference.\n"
     ]
    },
    {
     "name": "stdout",
     "output_type": "stream",
     "text": [
      "Models initialized successfully.\n"
     ]
    },
    {
     "name": "stderr",
     "output_type": "stream",
     "text": [
      "C:\\Users\\amart\\AppData\\Local\\Packages\\PythonSoftwareFoundation.Python.3.10_qbz5n2kfra8p0\\LocalCache\\local-packages\\Python310\\site-packages\\transformers\\optimization.py:591: FutureWarning: This implementation of AdamW is deprecated and will be removed in a future version. Use the PyTorch implementation torch.optim.AdamW instead, or set `no_deprecation_warning=True` to disable this warning\n",
      "  warnings.warn(\n"
     ]
    }
   ],
   "source": [
    "# Part 9: Create DataLoaders with a Custom Collate Function to handle the different fields\n",
    "def custom_collate(batch):\n",
    "    \"\"\"\n",
    "    Custom collate function that stacks tensor fields but leaves other fields as a list.\n",
    "    \"\"\"\n",
    "    collated = {}\n",
    "    # Define the keys that should be stacked into tensors.\n",
    "    numeric_keys = [\"input_ids\", \"attention_mask\", \"token_type_ids\", \n",
    "                    \"start_positions\", \"end_positions\", \"crf_labels\"]\n",
    "    for key in batch[0]:\n",
    "        if key in numeric_keys and key in batch[0]:\n",
    "            collated[key] = torch.stack([b[key] for b in batch])\n",
    "        else:\n",
    "            # For keys like \"offset_mapping\", \"context\", and \"answers\", keep them as lists, as they are not tensors.\n",
    "            collated[key] = [b[key] for b in batch]\n",
    "    return collated\n",
    "\n",
    "# Set batch sizes to 8 as my GPU 4060 has 8GB of memory and I can't use a bigger batch size.\n",
    "train_bs = 8  # training batch size\n",
    "dev_bs = 8    # validation batch size\n",
    "\n",
    "# Create DataLoaders using the custom collate function\n",
    "train_baseline_loader = DataLoader(train_baseline_features, batch_size=train_bs, shuffle=True, collate_fn=custom_collate)\n",
    "dev_baseline_loader = DataLoader(dev_baseline_features, batch_size=dev_bs, collate_fn=custom_collate)\n",
    "\n",
    "train_crf_loader = DataLoader(train_crf_features, batch_size=train_bs, shuffle=True, collate_fn=custom_collate)\n",
    "dev_crf_loader = DataLoader(dev_crf_features, batch_size=dev_bs, collate_fn=custom_collate)\n",
    "\n",
    "\n",
    "# Patched CRF and Model Definition for CRF Model\n",
    "from TorchCRF import CRF as BaseCRF\n",
    "\n",
    "class PatchedCRF(BaseCRF):\n",
    "    def __init__(self, num_labels, pad_idx):\n",
    "        super().__init__(num_labels, pad_idx)\n",
    "\n",
    "    def _initialize_parameters(self, pad_idx):\n",
    "        with torch.no_grad():\n",
    "            nn.init.uniform_(self.start_trans, -0.1, 0.1)\n",
    "            nn.init.uniform_(self.trans_matrix, -0.1, 0.1)\n",
    "        # Note: We are not zeroing out transitions for a pad label here,\n",
    "        # since for our binary labeling we do not designate a pad token.\n",
    "\n",
    "    def decode(self, emissions, mask):\n",
    "        \"\"\"Decode the best sequence using Viterbi.\"\"\"\n",
    "        return super().viterbi_decode(emissions, mask)\n",
    "\n",
    "\n",
    "\n",
    "# Define the SpanBERT-CRF model using the patched CRF.\n",
    "class SpanBERTCRFForQA(nn.Module):\n",
    "    \"\"\"\n",
    "    SpanBERT-CRF model:\n",
    "      - Uses a pretrained SpanBERT encoder.\n",
    "      - Applies a linear layer for token-level classification (2 classes).\n",
    "      - Uses a CRF layer (patched) to decode the best label sequence.\n",
    "    \"\"\"\n",
    "    def __init__(self, model_name):\n",
    "        super(SpanBERTCRFForQA, self).__init__()\n",
    "        self.bert = AutoModel.from_pretrained(model_name)\n",
    "        self.classifier = nn.Linear(self.bert.config.hidden_size, 2)\n",
    "        # Use the patched CRF; we pass pad_idx as 0 (this value will not be used specially).\n",
    "        self.crf = PatchedCRF(2, 0)\n",
    "        \n",
    "    def forward(self, input_ids, attention_mask, token_type_ids, crf_labels=None):\n",
    "        outputs = self.bert(\n",
    "            input_ids=input_ids,\n",
    "            attention_mask=attention_mask,\n",
    "            token_type_ids=token_type_ids\n",
    "        )\n",
    "        sequence_output = outputs.last_hidden_state  # shape: (batch, seq_len, hidden_size)\n",
    "        emissions = self.classifier(sequence_output)   # shape: (batch, seq_len, num_tags)\n",
    "        if crf_labels is not None:\n",
    "            # Compute the negative log-likelihood loss.\n",
    "            loss = -self.crf(emissions, crf_labels, mask=attention_mask.bool())\n",
    "            return loss, None\n",
    "        else:\n",
    "            # Decode the best sequence.\n",
    "            prediction = self.crf.decode(emissions, mask=attention_mask.bool())\n",
    "            return None, prediction\n",
    "\n",
    "# Part 10: Model Initialization\n",
    "# Initialize the models\n",
    "baseline_model = SpanBERTForQA(model_name).to(device)\n",
    "crf_model = SpanBERTCRFForQA(model_name).to(device)\n",
    "\n",
    "print(\"Models initialized successfully.\")\n",
    "\n",
    "\n",
    "# Part 11: Optimizers and Schedulers\n",
    "epochs = 6\n",
    "\n",
    "# Baseline model optimizer and scheduler\n",
    "total_steps_baseline = len(train_baseline_loader) * epochs\n",
    "optimizer_baseline = AdamW(baseline_model.parameters(), lr=3e-5)\n",
    "scheduler_baseline = get_linear_schedule_with_warmup(optimizer_baseline, num_warmup_steps=0, num_training_steps=total_steps_baseline)\n",
    "\n",
    "# CRF model optimizer and scheduler\n",
    "total_steps_crf = len(train_crf_loader) * epochs\n",
    "optimizer_crf = AdamW(crf_model.parameters(), lr=3e-5)\n",
    "scheduler_crf = get_linear_schedule_with_warmup(optimizer_crf, num_warmup_steps=0, num_training_steps=total_steps_crf)"
   ]
  },
  {
   "cell_type": "code",
   "execution_count": null,
   "metadata": {},
   "outputs": [],
   "source": [
    "# Part 12: Training Loop for Baseline Model\n",
    "\n",
    "baseline_train_losses = []\n",
    "baseline_val_em = []\n",
    "\n",
    "print(\"Training Baseline SpanBERT Model...\")\n",
    "\n",
    "for epoch in range(epochs):\n",
    "    print(f\"Epoch {epoch+1}/{epochs}\")\n",
    "    # Train on the GPU\n",
    "    train_loss = train_baseline(\n",
    "        baseline_model, \n",
    "        train_baseline_loader, \n",
    "        optimizer_baseline, \n",
    "        device=device, \n",
    "        clip_norm=1.0\n",
    "    )\n",
    "    baseline_train_losses.append(train_loss)\n",
    "    \n",
    "    # Evaluate on the GPU\n",
    "    val_em = evaluate_baseline(\n",
    "        baseline_model, \n",
    "        dev_baseline_loader, \n",
    "        device=device\n",
    "    )\n",
    "    baseline_val_em.append(val_em)\n",
    "    \n",
    "    print(f\"Baseline Epoch {epoch+1} - Training Loss: {train_loss:.4f}, Validation EM: {val_em:.2f}%\")\n",
    "    scheduler_baseline.step()\n"
   ]
  },
  {
   "cell_type": "code",
   "execution_count": null,
   "metadata": {},
   "outputs": [],
   "source": [
    " # Save baseline Model Checkpoint and Display GPU Memory Usage as i was getting Out of Memory  CUDA Error\n",
    "import torch\n",
    "\n",
    "# Specify the checkpoint file name (you can adjust the epoch number as needed)\n",
    "checkpoint_path = \"Baseline_model_epoch_6.pth\"\n",
    "torch.save(crf_model.state_dict(), checkpoint_path)\n",
    "print(f\"Saved baseline model checkpoint to {checkpoint_path}\")\n",
    "\n",
    "# Print a detailed GPU memory summary.\n",
    "# This will show which tensors (if any) are still allocated.\n",
    "print(\"GPU Memory Summary:\")\n",
    "print(torch.cuda.memory_summary(device=device, abbreviated=False))\n",
    "\n",
    "# Optionally, free GPU memory by deleting the model and clearing cache.\n",
    "# del baseline_model\n",
    "torch.cuda.empty_cache()\n",
    "print(\"Cleared cache and not the baseline model (uncomment the above line for that) from GPU memory.\")\n"
   ]
  },
  {
   "cell_type": "code",
   "execution_count": null,
   "metadata": {},
   "outputs": [
    {
     "name": "stdout",
     "output_type": "stream",
     "text": [
      "Training SpanBERT-CRF Model...\n",
      "Epoch 1/6\n"
     ]
    },
    {
     "name": "stderr",
     "output_type": "stream",
     "text": [
      "Training CRF: 100%|██████████| 6373/6373 [1:26:47<00:00,  1.22it/s]\n",
      "Evaluating CRF: 100%|██████████| 1296/1296 [03:41<00:00,  5.86it/s]\n"
     ]
    },
    {
     "name": "stdout",
     "output_type": "stream",
     "text": [
      "CRF Epoch 1 - Training Loss: 8.6393, Validation EM: 56.24%\n",
      "Epoch 2/6\n"
     ]
    },
    {
     "name": "stderr",
     "output_type": "stream",
     "text": [
      "Training CRF: 100%|██████████| 6373/6373 [1:28:17<00:00,  1.20it/s]\n",
      "Evaluating CRF: 100%|██████████| 1296/1296 [03:54<00:00,  5.52it/s]\n"
     ]
    },
    {
     "name": "stdout",
     "output_type": "stream",
     "text": [
      "CRF Epoch 2 - Training Loss: 5.0271, Validation EM: 64.03%\n",
      "Epoch 3/6\n"
     ]
    },
    {
     "name": "stderr",
     "output_type": "stream",
     "text": [
      "Training CRF: 100%|██████████| 6373/6373 [1:30:11<00:00,  1.18it/s]\n",
      "Evaluating CRF: 100%|██████████| 1296/1296 [03:55<00:00,  5.51it/s]\n"
     ]
    },
    {
     "name": "stdout",
     "output_type": "stream",
     "text": [
      "CRF Epoch 3 - Training Loss: 3.4525, Validation EM: 62.08%\n",
      "Epoch 4/6\n"
     ]
    },
    {
     "name": "stderr",
     "output_type": "stream",
     "text": [
      "Training CRF: 100%|██████████| 6373/6373 [1:29:17<00:00,  1.19it/s]\n",
      "Evaluating CRF: 100%|██████████| 1296/1296 [03:46<00:00,  5.73it/s]\n"
     ]
    },
    {
     "name": "stdout",
     "output_type": "stream",
     "text": [
      "CRF Epoch 4 - Training Loss: 2.5267, Validation EM: 60.90%\n",
      "Epoch 5/6\n"
     ]
    },
    {
     "name": "stderr",
     "output_type": "stream",
     "text": [
      "Training CRF: 100%|██████████| 6373/6373 [1:29:01<00:00,  1.19it/s]\n",
      "Evaluating CRF: 100%|██████████| 1296/1296 [03:55<00:00,  5.51it/s]\n"
     ]
    },
    {
     "name": "stdout",
     "output_type": "stream",
     "text": [
      "CRF Epoch 5 - Training Loss: 1.9647, Validation EM: 61.96%\n",
      "Epoch 6/6\n"
     ]
    },
    {
     "name": "stderr",
     "output_type": "stream",
     "text": [
      "Training CRF: 100%|██████████| 6373/6373 [1:30:59<00:00,  1.17it/s]\n",
      "Evaluating CRF: 100%|██████████| 1296/1296 [03:57<00:00,  5.46it/s]"
     ]
    },
    {
     "name": "stdout",
     "output_type": "stream",
     "text": [
      "CRF Epoch 6 - Training Loss: 1.6185, Validation EM: 60.36%\n"
     ]
    },
    {
     "name": "stderr",
     "output_type": "stream",
     "text": [
      "\n"
     ]
    }
   ],
   "source": [
    "# Part 13: Training Loop for CRF Model\n",
    "\n",
    "crf_train_losses = []\n",
    "crf_val_em = []\n",
    "\n",
    "print(\"Training SpanBERT-CRF Model...\")\n",
    "for epoch in range(epochs):\n",
    "    print(f\"Epoch {epoch+1}/{epochs}\")\n",
    "    train_loss = train_crf(crf_model, train_crf_loader, optimizer_crf, device, clip_norm=1.0)\n",
    "    crf_train_losses.append(train_loss)\n",
    "    \n",
    "    val_em = evaluate_crf(crf_model, dev_crf_loader, device)\n",
    "    crf_val_em.append(val_em)\n",
    "    \n",
    "    print(f\"CRF Epoch {epoch+1} - Training Loss: {train_loss:.4f}, Validation EM: {val_em:.2f}%\")\n",
    "    scheduler_crf.step()\n"
   ]
  },
  {
   "cell_type": "code",
   "execution_count": 13,
   "metadata": {},
   "outputs": [
    {
     "name": "stdout",
     "output_type": "stream",
     "text": [
      "['T_destination', '__annotations__', '__call__', '__class__', '__delattr__', '__dict__', '__dir__', '__doc__', '__eq__', '__format__', '__ge__', '__getattr__', '__getattribute__', '__getstate__', '__gt__', '__hash__', '__init__', '__init_subclass__', '__le__', '__lt__', '__module__', '__ne__', '__new__', '__reduce__', '__reduce_ex__', '__repr__', '__setattr__', '__setstate__', '__sizeof__', '__str__', '__subclasshook__', '__weakref__', '_apply', '_calc_trans_score_for_num_llh', '_call_impl', '_compiled_call_impl', '_compute_denominator_log_likelihood', '_compute_numerator_log_likelihood', '_get_backward_hooks', '_get_backward_pre_hooks', '_get_name', '_initialize_parameters', '_load_from_state_dict', '_maybe_warn_non_full_backward_hook', '_named_members', '_register_load_state_dict_pre_hook', '_register_state_dict_hook', '_replicate_for_data_parallel', '_save_to_state_dict', '_slow_forward', '_version', '_viterbi_compute_best_path', '_wrapped_call_impl', 'add_module', 'apply', 'bfloat16', 'buffers', 'call_super_init', 'children', 'compile', 'cpu', 'cuda', 'double', 'dump_patches', 'eval', 'extra_repr', 'float', 'forward', 'get_buffer', 'get_extra_state', 'get_parameter', 'get_submodule', 'half', 'ipu', 'load_state_dict', 'modules', 'mtia', 'named_buffers', 'named_children', 'named_modules', 'named_parameters', 'parameters', 'register_backward_hook', 'register_buffer', 'register_forward_hook', 'register_forward_pre_hook', 'register_full_backward_hook', 'register_full_backward_pre_hook', 'register_load_state_dict_post_hook', 'register_load_state_dict_pre_hook', 'register_module', 'register_parameter', 'register_state_dict_post_hook', 'register_state_dict_pre_hook', 'requires_grad_', 'set_extra_state', 'set_submodule', 'share_memory', 'state_dict', 'to', 'to_empty', 'train', 'type', 'viterbi_decode', 'xpu', 'zero_grad']\n"
     ]
    }
   ],
   "source": [
    "from TorchCRF import CRF\n",
    "print(dir(CRF))"
   ]
  },
  {
   "cell_type": "code",
   "execution_count": null,
   "metadata": {},
   "outputs": [
    {
     "data": {
      "image/png": "[encoded data removed]",
      "text/plain": [
       "<Figure size 1000x500 with 1 Axes>"
      ]
     },
     "metadata": {},
     "output_type": "display_data"
    },
    {
     "name": "stderr",
     "output_type": "stream",
     "text": [
      "Evaluating CRF: 100%|██████████| 1296/1296 [03:45<00:00,  5.74it/s]"
     ]
    },
    {
     "name": "stdout",
     "output_type": "stream",
     "text": [
      "Final CRF Model EM: 60.36%\n"
     ]
    },
    {
     "name": "stderr",
     "output_type": "stream",
     "text": [
      "\n"
     ]
    },
    {
     "data": {
      "text/plain": [
       "<Figure size 640x480 with 0 Axes>"
      ]
     },
     "metadata": {},
     "output_type": "display_data"
    }
   ],
   "source": [
    "# Part 14: Plot Training Curves and Final Evaluation\n",
    "epochs_range = range(1, epochs + 1)\n",
    "\n",
    "# Plot Baseline Model curves\n",
    "plt.figure(figsize=(10, 5))\n",
    "plt.plot(epochs_range, baseline_train_losses, label=\"Baseline Training Loss\")\n",
    "plt.plot(epochs_range, baseline_val_em, label=\"Baseline Validation EM\")\n",
    "plt.title(\"Baseline Model Training Loss & EM Score\")\n",
    "plt.xlabel(\"Epoch\")\n",
    "plt.legend()\n",
    "plt.savefig(\"baseline_training_plot.png\")\n",
    "plt.show()\n",
    "plt.clf()\n",
    "\n",
    "# Plot CRF Model curves\n",
    "plt.figure(figsize=(10, 5))\n",
    "plt.plot(epochs_range, crf_train_losses, label=\"CRF Training Loss\")\n",
    "plt.plot(epochs_range, crf_val_em, label=\"CRF Validation EM\")\n",
    "plt.title(\"CRF Model Training Loss & EM Score\")\n",
    "plt.xlabel(\"Epoch\")\n",
    "plt.legend()\n",
    "plt.savefig(\"crf_training_plot.png\")\n",
    "plt.show()\n",
    "plt.clf()\n",
    "\n",
    "# Final evaluation on the validation set\n",
    "final_baseline_em = evaluate_baseline(baseline_model, dev_baseline_loader, device)\n",
    "final_crf_em = evaluate_crf(crf_model, dev_crf_loader, device)\n",
    "print(f\"Final Baseline Model EM: {final_baseline_em:.2f}%\")\n",
    "print(f\"Final CRF Model EM: {final_crf_em:.2f}%\")\n"
   ]
  },
  {
   "cell_type": "code",
   "execution_count": 15,
   "metadata": {},
   "outputs": [
    {
     "name": "stdout",
     "output_type": "stream",
     "text": [
      "Saved CRF model checkpoint to crf_model_epoch_6.pth\n"
     ]
    }
   ],
   "source": [
    "import torch\n",
    "\n",
    "# Specify the checkpoint file name (you can adjust the epoch number as needed)\n",
    "checkpoint_path = \"crf_model_epoch_6.pth\"\n",
    "torch.save(crf_model.state_dict(), checkpoint_path)\n",
    "print(f\"Saved CRF model checkpoint to {checkpoint_path}\")\n"
   ]
  }
 ],
 "metadata": {
  "kernelspec": {
   "display_name": "Python 3",
   "language": "python",
   "name": "python3"
  },
  "language_info": {
   "codemirror_mode": {
    "name": "ipython",
    "version": 3
   },
   "file_extension": ".py",
   "mimetype": "text/x-python",
   "name": "python",
   "nbconvert_exporter": "python",
   "pygments_lexer": "ipython3",
   "version": "3.10.11"
  }
 },
 "nbformat": 4,
 "nbformat_minor": 2
}
